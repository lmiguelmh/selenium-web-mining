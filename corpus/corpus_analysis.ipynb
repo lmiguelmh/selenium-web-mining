{
 "cells": [
  {
   "cell_type": "markdown",
   "metadata": {
    "collapsed": true
   },
   "source": [
    ""
   ]
  },
  {
   "cell_type": "markdown",
   "metadata": {},
   "source": [
    "### Bitcoin news corpus\n",
    "- English news about \"bitcoin\" since Oct 01 2016"
   ]
  },
  {
   "cell_type": "code",
   "execution_count": 149,
   "metadata": {},
   "outputs": [
    {
     "name": "stdout",
     "output_type": "stream",
     "text": [
      "categories: ['20161001', '20161002', '20161003', '20161004', '20161005'] ...\nretrieving \"data\\all_words.pkz\"\n"
     ]
    },
    {
     "name": "stdout",
     "output_type": "stream",
     "text": [
      "retrieving \"data\\all_lemmatized_words.pkz\"\n"
     ]
    },
    {
     "name": "stdout",
     "output_type": "stream",
     "text": [
      "similarity for word \"bitcoin\"\nin original words:\n"
     ]
    },
    {
     "name": "stdout",
     "output_type": "stream",
     "text": [
      "blockchain cryptocurrency bitcoins technology ethereum news digital\nexchange new use price financial transactions based network zcash\nmarket online currency china\nin lemmatized words:\n"
     ]
    },
    {
     "name": "stdout",
     "output_type": "stream",
     "text": [
      "blockchain cryptocurrency technology exchange news bitcoins digital\nnew ethereum payment transaction price market use financial user like\nnetwork currency mining\nsimilarity for word \"china\"\nin original words:\n"
     ]
    },
    {
     "name": "stdout",
     "output_type": "stream",
     "text": [
      "bitcoin chinese blockchain price india u exchanges adoption technology\nexchange network cryptocurrency mining community company japan news\nkorea first trading\nin lemmatized words:\n"
     ]
    },
    {
     "name": "stdout",
     "output_type": "stream",
     "text": [
      "bitcoin chinese blockchain u price exchange india technology company\nnetwork adoption wallet mining startup country ecosystem one currency\ncryptocurrency community\n"
     ]
    }
   ],
   "source": [
    "import codecs\n",
    "import os\n",
    "import pickle\n",
    "\n",
    "import nltk\n",
    "\n",
    "def save_or_retrieve(file_pkz, func, *args, **kwargs):\n",
    "    \"\"\"\n",
    "    will save or retrieve the contents returned by func\n",
    "    :param file_pkz: path\n",
    "    :param func: function or lambda for easy use\n",
    "    :param args: args for func\n",
    "    :param kwargs: args for func\n",
    "    :return:\n",
    "    \"\"\"\n",
    "    if not os.path.exists(file_pkz):\n",
    "        print('saving \"%s\"' % file_pkz)\n",
    "        content = func(*args, **kwargs)\n",
    "        compressed_content = codecs.encode(pickle.dumps(content), 'zlib_codec')\n",
    "        with open(file_pkz, 'wb') as f:\n",
    "            f.write(compressed_content)\n",
    "        return content\n",
    "    else:\n",
    "        print('retrieving \"%s\"' % file_pkz)\n",
    "        with open(file_pkz, 'rb') as f:\n",
    "            compressed_content = f.read()\n",
    "        return pickle.loads(codecs.decode(compressed_content, 'zlib_codec'))\n",
    "\n",
    "corpus_dir = 'links_contents'\n",
    "working_dir = 'data'\n",
    "\n",
    "english_stopwords = nltk.corpus.stopwords.words('english')\n",
    "wnl = nltk.WordNetLemmatizer()\n",
    "\n",
    "corpus_reader = nltk.corpus.CategorizedPlaintextCorpusReader(corpus_dir, r'.*.txt', cat_pattern=r'([0-9]+)-.*')\n",
    "categories = corpus_reader.categories()\n",
    "print('categories:', categories[:5], '...')\n",
    "\n",
    "all_words_pkz = os.path.join(working_dir, 'all_words.pkz')\n",
    "all_words = save_or_retrieve(\n",
    "    all_words_pkz,\n",
    "    lambda: nltk.Text(w.lower() for w in corpus_reader.words() if w.lower() not in english_stopwords))\n",
    "\n",
    "all_lemmatized_words_pkz = os.path.join(working_dir, 'all_lemmatized_words.pkz')\n",
    "all_lemmatized_words = save_or_retrieve(\n",
    "    all_lemmatized_words_pkz,\n",
    "    lambda: nltk.Text(wnl.lemmatize(w.lower()) for w in corpus_reader.words() if w.lower() not in english_stopwords))\n",
    "\n",
    "words = ['bitcoin', 'china']  # lowercase\n",
    "for word in words:\n",
    "    # print('CONCORDANCE: ', word.upper())\n",
    "    # all_text.concordance(word, width=50)\n",
    "    # print()\n",
    "\n",
    "    # Distributional similarity: find other words which appear in the same contexts as the specified word; list most similar words first.\n",
    "    print('similarity for word \"%s\"' % word)\n",
    "    print('in original words:')\n",
    "    all_words.similar(word)\n",
    "    print('in lemmatized words:')\n",
    "    all_lemmatized_words.similar(word)\n"
   ]
  },
  {
   "cell_type": "markdown",
   "metadata": {},
   "source": [
    "### Cleaning corpus\n",
    "- Deleting lines with less than 10 words\n",
    "- Files with less than 1KB or more than 15KB"
   ]
  },
  {
   "cell_type": "markdown",
   "metadata": {},
   "source": [
    "#### Using Stanford's CoreNLP for sentiment analysis and entity recognition\n",
    "Problema: los títulos están en mayúsculas, debemos reconocer las entidades para ello ignoramos sólo tomaremos en cuenta oraciones que contengan como mínimo un 10% de palabras en minúscula"
   ]
  },
  {
   "cell_type": "code",
   "execution_count": 188,
   "metadata": {},
   "outputs": [
    {
     "name": "stdout",
     "output_type": "stream",
     "text": [
      "{'J. Christina Wang': 'PERSON', 'Federal Reserve Bank of Boston': 'ORGANIZATION', '41 %': 'PERCENT', 'Foundation': 'ORGANIZATION', '37 %': 'PERCENT', '18 %': 'PERCENT', 'currently': 'DATE', 'one': 'NUMBER', '36 %': 'PERCENT', '11 %': 'PERCENT', 'Stephanie Lo': 'PERSON', '12 %': 'PERCENT', '20 %': 'PERCENT', '27 %': 'PERCENT', 'end 2017': 'DATE', '28 %': 'PERCENT', 'Harvard University': 'ORGANIZATION', 'Facebook': 'ORGANIZATION', 'Matthew R. Silver of Pepper Hamilton LLP': 'ORGANIZATION', 'Twitter': 'ORGANIZATION', 'Bitcoin': 'PERSON', 'Board': 'ORGANIZATION', 'the next 12 months': 'DURATION', '19 %': 'PERCENT', 'Timothy R. McTaggart': 'PERSON', '15 %': 'PERCENT', 'Llew Claasen': 'PERSON', '62 %': 'PERCENT', 'the past': 'DATE', '35 %': 'PERCENT', 'Claasen': 'PERSON', 'Cointelegraph': 'PERSON', '14 %': 'PERCENT', 'Bitcoin Foundation': 'ORGANIZATION', '42 %': 'PERCENT', 'The Foundation': 'ORGANIZATION', 'quarterly': 'SET', '2016/2017': 'NUMBER', 'Reddit': 'LOCATION', '10 %': 'PERCENT'}\n"
     ]
    }
   ],
   "source": [
    "from pycorenlp import StanfordCoreNLP\n",
    "\n",
    "def retrieve_named_entities(lines, min_lower_words_per_sentence_rate=0.10):\n",
    "    nlp = StanfordCoreNLP('http://127.0.0.1:9000')\n",
    "    entity_words = {}\n",
    "    \n",
    "    # ignore the lines with more than 90% of uppercase\n",
    "    content = \"\"\n",
    "    for line in lines:\n",
    "        lower_words = 0\n",
    "        words = line.split()\n",
    "        # todo bad performance\n",
    "        for word in words:\n",
    "            if word[0].isalpha() and word[0].islower():\n",
    "                lower_words += 1\n",
    "        if lower_words > len(words) * min_lower_words_per_sentence_rate:\n",
    "            content += line + \"\\n\"\n",
    "\n",
    "    output = nlp.annotate(\n",
    "        content,\n",
    "        properties={\n",
    "            'annotators': 'ner',\n",
    "            'outputFormat': 'json'\n",
    "        }\n",
    "    )\n",
    "    # http://stanfordnlp.github.io/CoreNLP/ner.html\n",
    "    entity = \"\"\n",
    "    entity_words = {}\n",
    "    for i, _ in enumerate(output['sentences']):\n",
    "        words = []\n",
    "        for t in output['sentences'][i]['tokens']:\n",
    "            if entity != t[\"ner\"]:\n",
    "                if len(words) > 0:\n",
    "                    entity_words[\" \".join(words)] = entity\n",
    "                    words = []\n",
    "\n",
    "            entity = t[\"ner\"]\n",
    "            if entity != 'O':\n",
    "                words.append(t[\"word\"])\n",
    "                # print([t[\"word\"] for t in output['sentences'][i]['tokens']])\n",
    "                # print(entity_words)\n",
    "    return entity_words\n",
    "\n",
    "\n",
    "in_dir = 'links_contents_clean'\n",
    "files = [\n",
    "    '20161001-2fc38645b2f1075b-Community_Prefers_Bitcoin_As_Exchange_Medium_Over_Store_of_Value%2C.txt.clean.txt',\n",
    "    # '20161001-51c397b0cd8bdbc6-Why_Blockchain_Won%E2%80%99t_Disrupt_Banks_First_-_CoinDesk.txt.clean.txt',\n",
    "    # '20161001-adb0edbb66d3fb0d-Kim_Dotcom_Reiterates_His_Bitcoin_Price_Forecast%2C_%242000_in_2.txt.clean.txt',\n",
    "    # '20161002-2c276484c2156687-Bitcoin_Can_Buy_You_a_Biometric_Data_Skimmer_on_the.txt.clean.txt',\n",
    "    # '20161002-c2b624fa4e45d409-Croatian_Law_Enforcement_Completes_Another_Bitcoin-related_Darknet_Drug_Bust_-.txt.clean.txt',\n",
    "    # '20161003-1eca38f66bf45f56-MGT_Capital_Investments_Inc_%28NYSEMKT%3AMGT%29%3A_Opportunity_Through_Uncertainty_%7C_Insider.tx.clean.txtt'\n",
    "]\n",
    "\n",
    "for file in files:\n",
    "    in_file = os.path.join(in_dir, file)\n",
    "    with open(in_file, 'r', encoding='utf8') as f:\n",
    "        # content = f.readlines()\n",
    "        lines = [line.rstrip('\\n') for line in f]\n",
    "    print(retrieve_named_entities(lines))"
   ]
  },
  {
   "cell_type": "code",
   "execution_count": 4,
   "metadata": {
    "collapsed": false
   },
   "outputs": [
    {
     "name": "stdout",
     "output_type": "stream",
     "text": [
      "Counter({'Negative': 25, 'Positive': 3, 'Neutral': 3})\n"
     ]
    }
   ],
   "source": [
    "import os\n",
    "from collections import Counter\n",
    "from pycorenlp import StanfordCoreNLP\n",
    "\n",
    "def analize_sentiment(content):\n",
    "    nlp = StanfordCoreNLP('http://127.0.0.1:9000')\n",
    "    output = nlp.annotate(\n",
    "        content,\n",
    "        properties={\n",
    "            'annotators': 'sentiment',\n",
    "            'outputFormat': 'json'\n",
    "        }\n",
    "    )\n",
    "    # http://stanfordnlp.github.io/CoreNLP/sentiment.html#options\n",
    "    sentiment = [s['sentiment'] for s in output['sentences']]\n",
    "    return Counter(sentiment)\n",
    "    \n",
    "\n",
    "in_dir = 'data/corpus/links_contents_clean'\n",
    "files = [\n",
    "    '20161001-2fc38645b2f1075b-Community_Prefers_Bitcoin_As_Exchange_Medium_Over_Store_of_Value%2C.txt',\n",
    "    # '20161001-51c397b0cd8bdbc6-Why_Blockchain_Won%E2%80%99t_Disrupt_Banks_First_-_CoinDesk.txt.clean.txt',\n",
    "    # '20161001-adb0edbb66d3fb0d-Kim_Dotcom_Reiterates_His_Bitcoin_Price_Forecast%2C_%242000_in_2.txt.clean.txt',\n",
    "    # '20161002-2c276484c2156687-Bitcoin_Can_Buy_You_a_Biometric_Data_Skimmer_on_the.txt.clean.txt',\n",
    "    # '20161002-c2b624fa4e45d409-Croatian_Law_Enforcement_Completes_Another_Bitcoin-related_Darknet_Drug_Bust_-.txt.clean.txt',\n",
    "    # '20161003-1eca38f66bf45f56-MGT_Capital_Investments_Inc_%28NYSEMKT%3AMGT%29%3A_Opportunity_Through_Uncertainty_%7C_Insider.tx.clean.txtt'\n",
    "]\n",
    "\n",
    "for file in files:\n",
    "    in_file = os.path.join(in_dir, file)\n",
    "    with open(in_file, 'r', encoding='utf8') as f:\n",
    "        lines = f.readlines()\n",
    "    sentiment = analize_sentiment(\"\\n\".join(lines))\n",
    "    print(sentiment)"
   ]
  },
  {
   "cell_type": "code",
   "execution_count": null,
   "metadata": {},
   "outputs": [],
   "source": [
    ""
   ]
  }
 ],
 "metadata": {
  "kernelspec": {
   "display_name": "Python 2",
   "language": "python",
   "name": "python2"
  },
  "language_info": {
   "codemirror_mode": {
    "name": "ipython",
    "version": 2.0
   },
   "file_extension": ".py",
   "mimetype": "text/x-python",
   "name": "python",
   "nbconvert_exporter": "python",
   "pygments_lexer": "ipython2",
   "version": "2.7.6"
  }
 },
 "nbformat": 4,
 "nbformat_minor": 0
}