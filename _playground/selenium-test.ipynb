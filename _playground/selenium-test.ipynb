{
 "cells": [
  {
   "cell_type": "code",
   "execution_count": 14,
   "metadata": {},
   "outputs": [
    {
     "name": "stdout",
     "output_type": "stream",
     "text": [
      "https://www.google.com/search?num=20&safe=off&hl=en&gl=us&tbs=cdr%3A1%2Ccd_min%3A11%2F1%2F2016%2Ccd_max%3A11%2F1%2F2016%2Csbd%3A1&tbm=nws&q=bitcoin+china\nhttps://www.google.com/search?num=20&safe=off&hl=en&gl=us&tbs=cdr%3A1%2Ccd_min%3A11%2F01%2F2016%2Ccd_max%3A11%2F01%2F2016%2Csbd%3A1&tbm=nws&q=bitcoin+china\n"
     ]
    }
   ],
   "source": [
    "import urllib.parse\n",
    "from urllib.parse import quote\n",
    "from datetime import datetime, date, time\n",
    "\n",
    "def make_news_url(q, tbs, num=\"20\", hl=\"en\", gl=\"us\"):\n",
    "    \"\"\"\n",
    "    :param q: bitcoin\n",
    "    :param tbs: cdr:1,cd_min:11/1/2016,cd_max:11/1/2016,sbd:1\n",
    "    :param num: 20\n",
    "    :param hl: en\n",
    "    :param gl: us\n",
    "    :return: \n",
    "    \"\"\"\n",
    "    q = urllib.parse.quote_plus(q)\n",
    "    tbs = urllib.parse.quote_plus(tbs)\n",
    "    return \"https://www.google.com/search?num=\" + num + \"&safe=off&hl=\" + hl + \"&gl=\" + gl + \"&tbs=\" + tbs + \"&tbm=nws&q=\" + q\n",
    "\n",
    "\n",
    "def make_news_url_between(q, start, end, num=\"20\", hl=\"en\", gl=\"us\"):\n",
    "    \"\"\"\n",
    "    :param q: bitcoin\n",
    "    :param tbs: cdr:1,cd_min:11/1/2016,cd_max:11/1/2016,sbd:1\n",
    "    :param num: 20\n",
    "    :param hl: en\n",
    "    :param gl: us\n",
    "    :return: \n",
    "    \"\"\"\n",
    "    q = urllib.parse.quote_plus(q)\n",
    "    tbs = \"cdr:1,cd_min:%s,cd_max:%s,sbd:1\" % (start.strftime(\"%m/%d/%Y\"), end.strftime(\"%m/%d/%Y\"))\n",
    "    tbs = urllib.parse.quote_plus(tbs)\n",
    "    return \"https://www.google.com/search?num=\" + num + \"&safe=off&hl=\" + hl + \"&gl=\" + gl + \"&tbs=\" + tbs + \"&tbm=nws&q=\" + q\n",
    "\n",
    "print(make_news_url(\"bitcoin china\", \"cdr:1,cd_min:11/1/2016,cd_max:11/1/2016,sbd:1\"))\n",
    "print(make_news_url_between(\"bitcoin china\", date(2016, 11, 1), date(2016, 11, 1)))"
   ]
  },
  {
   "cell_type": "code",
   "execution_count": 4,
   "metadata": {
    "collapsed": true
   },
   "outputs": [
    {
     "name": "stdout",
     "output_type": "stream",
     "text": [
      "'NoneType' object has no attribute 'path'\n"
     ]
    }
   ],
   "source": [
    "from selenium import webdriver\n",
    "from selenium.webdriver.common.keys import Keys\n",
    "\n",
    "browser = webdriver.Firefox()\n",
    "\n",
    "browser.get('http://www.yahoo.com')\n",
    "assert 'Yahoo' in browser.title\n",
    "\n",
    "elem = browser.find_element_by_name('p')  # Find the search box\n",
    "elem.send_keys('seleniumhq' + Keys.RETURN)\n",
    "\n",
    "browser.quit()"
   ]
  },
  {
   "cell_type": "code",
   "execution_count": 28,
   "metadata": {},
   "outputs": [
    {
     "name": "stdout",
     "output_type": "stream",
     "text": [
      "2016-11-01\n2016-11-02\n2016-11-03\n2016-11-04\n2016-11-05\n2016-11-06\n2016-11-07\n2016-11-08\n2016-11-09\n"
     ]
    }
   ],
   "source": [
    "from datetime import datetime, date, time\n",
    "# \n",
    "# d1 = date(2016, 11, 1)\n",
    "# d2 = date(2016, 11, 9)\n",
    "# date_list = [d1 - datetime.timedelta(days=x) for x in range(0, numdays)]\n",
    "# \n",
    "import pandas as pd\n",
    "datelist = pd.date_range(pd.datetime.today(), periods=10).tolist()\n",
    "# print(datelist)\n",
    "\n",
    "def daterange(start_date, end_date):\n",
    "    for ordinal in range(start_date.toordinal(), end_date.toordinal()):\n",
    "        print(date.fromordinal(ordinal))\n",
    "\n",
    "daterange(date(2016, 11, 1), date(2016, 11, 10))\n",
    "# from datetime import date, timedelta\n",
    "# print(range(date(2016, 11, 1), date(2016, 11, 10), timedelta(days=1)))"
   ]
  },
  {
   "cell_type": "code",
   "execution_count": null,
   "metadata": {},
   "outputs": [],
   "source": [
    "# http://stackoverflow.com/questions/28879950/how-to-avoid-google-search-detect-selenium-webdriver-as-unusual-behaviour\n",
    "# ProfilesIni allProfiles = new ProfilesIni();\n",
    "# WebDriver driver = new FirefoxDriver(allProfiles.getProfile(\"default\"));\n",
    "\n",
    "import threading\n",
    "class Test(threading.Thread):\n",
    "    def __init__(self, driver, url):\n",
    "        self.driver = driver\n",
    "        self.url = url\n",
    "        threading.Thread.__init__(self)\n",
    "\n",
    "    def run(self):\n",
    "        self.driver.get(self.url)\n",
    "\n",
    "\n",
    "fp = webdriver.FirefoxProfile()\n",
    "fp.set_preference(\"webdriver.load.strategy\", \"unstable\") \n",
    "# according to this https://github.com/SeleniumHQ/selenium/issues/2873 it only works in Firefox <46\n",
    "# according to this http://stackoverflow.com/a/21967923/2692914 there are conservative, eager, normal, and none \"pageLoadingStrategy\"\n",
    "driver = webdriver.Firefox(fp)\n",
    "\n",
    "t = Test(driver, 'https://www.reniec.gob.pe/portal/intro.htm')\n",
    "t.start()\n",
    "\n",
    "import time\n",
    "\n",
    "for i in range(1, 10):\n",
    "    try:\n",
    "        print(driver.execute_script('return document.readyState'))\n",
    "    except BaseException as e:\n",
    "        print(e)\n",
    "    time.sleep(0.25)\n",
    "\n",
    "t.join()"
   ]
  }
 ],
 "metadata": {
  "kernelspec": {
   "display_name": "Python 2",
   "language": "python",
   "name": "python2"
  },
  "language_info": {
   "codemirror_mode": {
    "name": "ipython",
    "version": 2.0
   },
   "file_extension": ".py",
   "mimetype": "text/x-python",
   "name": "python",
   "nbconvert_exporter": "python",
   "pygments_lexer": "ipython2",
   "version": "2.7.6"
  }
 },
 "nbformat": 4,
 "nbformat_minor": 0
}