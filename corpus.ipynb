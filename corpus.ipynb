{
 "cells": [
  {
   "cell_type": "markdown",
   "metadata": {
    "collapsed": true
   },
   "source": [
    ""
   ]
  },
  {
   "cell_type": "markdown",
   "metadata": {},
   "source": [
    "### Bitcoin news corpus\n",
    "- English news about \"bitcoin\" since Oct 01 2016"
   ]
  },
  {
   "cell_type": "code",
   "execution_count": 149,
   "metadata": {},
   "outputs": [
    {
     "name": "stdout",
     "output_type": "stream",
     "text": [
      "categories: ['20161001', '20161002', '20161003', '20161004', '20161005'] ...\nretrieving \"data\\all_words.pkz\"\n"
     ]
    },
    {
     "name": "stdout",
     "output_type": "stream",
     "text": [
      "retrieving \"data\\all_lemmatized_words.pkz\"\n"
     ]
    },
    {
     "name": "stdout",
     "output_type": "stream",
     "text": [
      "similarity for word \"bitcoin\"\nin original words:\n"
     ]
    },
    {
     "name": "stdout",
     "output_type": "stream",
     "text": [
      "blockchain cryptocurrency bitcoins technology ethereum news digital\nexchange new use price financial transactions based network zcash\nmarket online currency china\nin lemmatized words:\n"
     ]
    },
    {
     "name": "stdout",
     "output_type": "stream",
     "text": [
      "blockchain cryptocurrency technology exchange news bitcoins digital\nnew ethereum payment transaction price market use financial user like\nnetwork currency mining\nsimilarity for word \"china\"\nin original words:\n"
     ]
    },
    {
     "name": "stdout",
     "output_type": "stream",
     "text": [
      "bitcoin chinese blockchain price india u exchanges adoption technology\nexchange network cryptocurrency mining community company japan news\nkorea first trading\nin lemmatized words:\n"
     ]
    },
    {
     "name": "stdout",
     "output_type": "stream",
     "text": [
      "bitcoin chinese blockchain u price exchange india technology company\nnetwork adoption wallet mining startup country ecosystem one currency\ncryptocurrency community\n"
     ]
    }
   ],
   "source": [
    "import codecs\n",
    "import pickle\n",
    "import os\n",
    "import nltk\n",
    "\n",
    "\n",
    "def save_or_retrieve(file_pkz, func, *args, **kwargs):\n",
    "    \"\"\"\n",
    "    will save or retrieve the contents returned by func\n",
    "    :param file_pkz: path\n",
    "    :param func: function or lambda for easy use\n",
    "    :param args: args for func\n",
    "    :param kwargs: args for func\n",
    "    :return:\n",
    "    \"\"\"\n",
    "    if not os.path.exists(file_pkz):\n",
    "        print('saving \"%s\"' % file_pkz)\n",
    "        content = func(*args, **kwargs)\n",
    "        compressed_content = codecs.encode(pickle.dumps(content), 'zlib_codec')\n",
    "        with open(file_pkz, 'wb') as f:\n",
    "            f.write(compressed_content)\n",
    "        return content\n",
    "    else:\n",
    "        print('retrieving \"%s\"' % file_pkz)\n",
    "        with open(file_pkz, 'rb') as f:\n",
    "            compressed_content = f.read()\n",
    "        return pickle.loads(codecs.decode(compressed_content, 'zlib_codec'))\n",
    "\n",
    "corpus_dir = 'links_contents'\n",
    "working_dir = 'data'\n",
    "\n",
    "english_stopwords = nltk.corpus.stopwords.words('english')\n",
    "wnl = nltk.WordNetLemmatizer()\n",
    "\n",
    "corpus_reader = nltk.corpus.CategorizedPlaintextCorpusReader(corpus_dir, r'.*.txt', cat_pattern=r'([0-9]+)-.*')\n",
    "categories = corpus_reader.categories()\n",
    "print('categories:', categories[:5], '...')\n",
    "\n",
    "all_words_pkz = os.path.join(working_dir, 'all_words.pkz')\n",
    "all_words = save_or_retrieve(\n",
    "    all_words_pkz,\n",
    "    lambda: nltk.Text(w.lower() for w in corpus_reader.words() if w.lower() not in english_stopwords))\n",
    "\n",
    "all_lemmatized_words_pkz = os.path.join(working_dir, 'all_lemmatized_words.pkz')\n",
    "all_lemmatized_words = save_or_retrieve(\n",
    "    all_lemmatized_words_pkz,\n",
    "    lambda: nltk.Text(wnl.lemmatize(w.lower()) for w in corpus_reader.words() if w.lower() not in english_stopwords))\n",
    "\n",
    "words = ['bitcoin', 'china']  # lowercase\n",
    "for word in words:\n",
    "    # print('CONCORDANCE: ', word.upper())\n",
    "    # all_text.concordance(word, width=50)\n",
    "    # print()\n",
    "    # Distributional similarity: find other words which appear in the same contexts as the specified word; list most similar words first.\n",
    "    print('similarity for word \"%s\"' % word)\n",
    "    print('in original words:')\n",
    "    all_words.similar(word)\n",
    "    print('in lemmatized words:')\n",
    "    all_lemmatized_words.similar(word)"
   ]
  },
  {
   "cell_type": "markdown",
   "metadata": {},
   "source": [
    "### Cleaning corpus\n",
    "- Deleting lines with less than 10 words"
   ]
  },
  {
   "cell_type": "code",
   "execution_count": 148,
   "metadata": {},
   "outputs": [],
   "source": [
    "import re\n",
    "\n",
    "def clean_lines(lines, preprocess=True):\n",
    "    if not preprocess:\n",
    "        return lines\n",
    "    else:\n",
    "        preprocessed_lines = []\n",
    "        for line in lines:\n",
    "            # TODO a NN to recognize the type of word? NUMBER, PERCENT, HOUR, DATE, ABBR, (y hellooo!)\n",
    "\n",
    "            # standardize perc values  --  remember ?: non capturing group\n",
    "            line = re.sub(r'[+\\-]?(?:\\d*[.,]?\\d+|\\d+[.,]?\\d*)%', 'PERCENTAGE', line)\n",
    "\n",
    "            # standardize monetary values $1.5M, $1., $.3\n",
    "            line = re.sub(r'\\$\\d*(?:\\d*[.,]?\\d+|\\d+[.,]?\\d*)[Mm]?', 'MONEY', line)\n",
    "\n",
    "            # standardize certain decimal values like \"2.0\" or \".2\" not \"2016.\"\n",
    "            line = re.sub('\\d*[.,]\\d+', 'DECIMAL', line)\n",
    "\n",
    "            # standardize num values - not by now too many false positives\n",
    "            # line = re.sub('\\d*(?:\\d*[.,]?\\d+|\\d+[.,]?\\d*)', 'NUMBER', line)\n",
    "\n",
    "            # standardize abbreviations i.e. -> ie, u.s.a. -> usa, but not ee.uu.\n",
    "            # there is no way to multiple re group captures http://stackoverflow.com/a/464879/2692914\n",
    "            p = re.compile(r'\\b((?:[a-zA-Z]\\.)+)')\n",
    "            for m in p.finditer(line):\n",
    "                line = line.replace(m.group(), ''.join(m.group(1).split('.')))\n",
    "\n",
    "            # separate in sentences\n",
    "            # sentences = re.split(r'(?:.\\s+)', line)\n",
    "            sentences = [s for s in re.split(r'\\.+', line) if len(s.split()) > 2]\n",
    "            for s in sentences:\n",
    "                preprocessed_lines.append(s)\n",
    "        return preprocessed_lines\n",
    "\n",
    "\n",
    "def clean_file(in_file, out_file, preprocess=True):\n",
    "    # min words per paragraph\n",
    "    min_words_per_paragraph = 7\n",
    "    with open(in_file, 'r', encoding='utf8') as f:\n",
    "        lines = [line.rstrip('\\n') for line in f if len(line.split()) > min_words_per_paragraph]\n",
    "\n",
    "    # cleaning and preprocessing files\n",
    "    if preprocess:\n",
    "        lines = clean_lines(lines)\n",
    "        \n",
    "    # QUITAR ESPACIOS DE LAS LINEAS! \n",
    "    # USAR EL SERVIDOR DEDICADO CON UN POS TAGGER! http://stanfordnlp.github.io/CoreNLP/corenlp-server.html#dedicated-server \n",
    "    \n",
    "    content = '\\n'.join(lines)\n",
    "    # doenst work as expected, for semantic analysis we need some stopwords (i.e. have)\n",
    "    # content = content.lower()\n",
    "    # english_stopwords = nltk.corpus.stopwords.words('english')\n",
    "    # wnl = nltk.WordNetLemmatizer()\n",
    "    # words = list(set(re.split(r'[^\\w]+', content)))\n",
    "    # for word in words:\n",
    "    #     if word in english_stopwords:\n",
    "    #         # ignore english stopwords\n",
    "    #         new_word = ''\n",
    "    #     else:\n",
    "    #         # lemmatize words\n",
    "    #         new_word = wnl.lemmatize(word)\n",
    "    #     content = re.sub(r'\\b%s\\b' % word, new_word, content)\n",
    "\n",
    "    with open(out_file, 'wb') as f:\n",
    "        f.write(bytes(content, encoding='utf8'))\n",
    "\n",
    "in_dir = 'links_contents'\n",
    "out_dir = 'links_contents_clean'\n",
    "files = [\n",
    "    '20161001-2fc38645b2f1075b-Community_Prefers_Bitcoin_As_Exchange_Medium_Over_Store_of_Value%2C.txt',\n",
    "    '20161001-51c397b0cd8bdbc6-Why_Blockchain_Won%E2%80%99t_Disrupt_Banks_First_-_CoinDesk.txt',\n",
    "    '20161001-adb0edbb66d3fb0d-Kim_Dotcom_Reiterates_His_Bitcoin_Price_Forecast%2C_%242000_in_2.txt',\n",
    "    '20161002-2c276484c2156687-Bitcoin_Can_Buy_You_a_Biometric_Data_Skimmer_on_the.txt',\n",
    "    '20161002-c2b624fa4e45d409-Croatian_Law_Enforcement_Completes_Another_Bitcoin-related_Darknet_Drug_Bust_-.txt',\n",
    "    '20161003-1eca38f66bf45f56-MGT_Capital_Investments_Inc_%28NYSEMKT%3AMGT%29%3A_Opportunity_Through_Uncertainty_%7C_Insider.txt'\n",
    "]\n",
    "\n",
    "for file in files:\n",
    "    in_file = os.path.join(in_dir, file)\n",
    "    # out_file = os.path.join(out_dir, file)\n",
    "    # clean_file(in_file, out_file, False)\n",
    "    out_file = os.path.join(out_dir, file + \".clean.txt\")\n",
    "    clean_file(in_file, out_file, True)"
   ]
  },
  {
   "cell_type": "markdown",
   "metadata": {},
   "source": [
    "#### Using Stanford's CoreNLP for sentiment analysis and entity recognition"
   ]
  },
  {
   "cell_type": "code",
   "execution_count": 165,
   "metadata": {
    "collapsed": false
   },
   "outputs": [
    {
     "name": "stdout",
     "output_type": "stream",
     "text": [
      "['Community/NNP', 'Prefers/NNP', 'Bitcoin/NNP', 'As/IN', 'Exchange/NNP', 'Medium/NNP', 'Over/IN', 'Store/NNP', 'of/IN', 'Value/NNP', ',/,', 'Survey/NNP', 'Shows/VBZ']\nSentiment: Negative\n\n['Community/NNP', 'Prefers/NNP', 'Bitcoin/NNP', 'As/IN', 'Exchange/NNP', 'Medium/NNP', 'Over/IN', 'Store/NNP', 'of/IN', 'Value/NNP', ',/,', 'Survey/NNP', 'Shows/VBZ']\nSentiment: Negative\n\n"
     ]
    },
    {
     "name": "stdout",
     "output_type": "stream",
     "text": [
      "['Many/JJ', 'in/IN', 'the/DT', 'Bitcoin/NNP', 'community/NN', 'have/VBP', 'expressed/VBN', 'that/IN', 'the/DT', 'most/RBS', 'compelling/JJ', 'function/NN', 'they/PRP', 'want/VBP', 'the/DT', 'Bitcoin/NNP:ORGANIZATION', 'Foundation/NNP:ORGANIZATION', 'to/TO', 'focus/VB', 'its/PRP$', 'advocacy/NN', 'programs/NNS', 'on/IN', 'in/IN', 'the/DT:DURATION', 'next/JJ:DURATION', '12/CD:DURATION', 'months/NNS:DURATION', 'is/VBZ', ';/:', 'serving/VBG', 'as/IN', 'a/DT', 'medium/NN', 'of/IN', 'exchange/NN', './.']\nSentiment: Positive\n\n"
     ]
    },
    {
     "name": "stdout",
     "output_type": "stream",
     "text": [
      "['According/VBG', 'to/TO', 'the/DT', 'outcomes/NNS', 'of/IN', 'a/DT', 'community/NN', 'survey/NN', 'released/VBN', 'by/IN', 'the/DT', 'Foundation/NNP:ORGANIZATION', ',/,', '37/CD:PERCENT', '%/NN:PERCENT', 'of/IN', 'the/DT', 'respondents/NNS', 'choose/VB', 'to/TO', 'focus/VB', 'on/IN', 'Bitcoin/NNP', 'as/IN', 'a/DT', 'medium/NN', 'of/IN', 'exchange/NN', '-/:', 'i.e./FW', 'used/VBN', 'to/TO', 'actually/RB', 'buy/VB', 'things/NNS', '-/:', 'over/IN', 'its/PRP$', 'use/NN', 'as/IN', 'a/DT', 'store/NN', 'of/IN', 'value/NN', '-LRB-/-LRB-', '18/CD:PERCENT', '%/NN:PERCENT', '-RRB-/-RRB-', ',/,', '10/CD:PERCENT', '%/NN:PERCENT', 'who/WP', 'do/VBP', 'not/RB', 'know/VB', 'and/CC', '36/CD:PERCENT', '%/NN:PERCENT', 'that/WDT', 'opted/VBD', 'for/IN', 'other/JJ', 'uses/NNS', './.']\nSentiment: Negative\n\n"
     ]
    },
    {
     "name": "stdout",
     "output_type": "stream",
     "text": [
      "['Commenting/VBG', 'on/IN', 'the/DT', 'survey/NN', ',/,', 'the/DT', 'Executive/NNP', 'Director/NNP', 'of/IN', 'The/DT', 'Bitcoin/NNP:ORGANIZATION', 'Foundation/NNP:ORGANIZATION', ',/,', 'Llew/NNP:PERSON', 'Claasen/NNP:PERSON', ',/,', 'told/VBD', 'Cointelegraph/NNP:PERSON', ':/:']\nSentiment: Negative\n\n"
     ]
    },
    {
     "name": "stdout",
     "output_type": "stream",
     "text": [
      "['``/``', 'The/DT:ORGANIZATION', 'Foundation/NNP:ORGANIZATION', 'needs/VBZ', 'to/TO', 're-establish/VB', 'legitimacy/NN', 'amongst/IN', 'long-time/JJ', 'Bitcoin/NNP', 'community/NN', 'members/NNS', 'because/IN', 'of/IN', 'things/NNS', 'that/WDT', 'may/MD', 'or/CC', 'may/MD', 'not/RB', 'have/VB', 'happened/VBN', 'in/IN', 'the/DT:DATE', 'past/NN:DATE', 'through/IN', 'predecessors/NNS', './.']\nSentiment: Negative\n\n['``/``']\nSentiment: Neutral\n\n"
     ]
    },
    {
     "name": "stdout",
     "output_type": "stream",
     "text": [
      "['When/WRB', 'used/VBN', 'as/IN', 'a/DT', 'medium/NN', 'of/IN', 'exchange/NN', ',/,', 'rather/RB', 'than/IN', 'as/IN', 'an/DT', 'investment/NN', 'vehicle/NN', ',/,', 'Bitcoin/NN', 'shows/VBZ', 'users/NNS', 'many/JJ', 'potential/JJ', 'benefits/NNS', 'as/IN', 'it/PRP', 'can/MD', 'not/RB', 'be/VB', 'created/VBN', 'at/IN', 'will/MD', 'and/CC', 'its/PRP$', 'supply/NN', 'is/VBZ', 'finite/JJ', ',/,', 'write/VB', 'Timothy/NNP:PERSON', 'R./NNP:PERSON', 'McTaggart/NNP:PERSON', 'and/CC', 'Matthew/NNP:ORGANIZATION', 'R./NNP:ORGANIZATION', 'Silver/NNP:ORGANIZATION', 'of/IN:ORGANIZATION', 'Pepper/NNP:ORGANIZATION', 'Hamilton/NNP:ORGANIZATION', 'LLP/NNP:ORGANIZATION', './.']\nSentiment: Negative\n\n"
     ]
    },
    {
     "name": "stdout",
     "output_type": "stream",
     "text": [
      "['However/RB', ',/,', 'Harvard/NNP:ORGANIZATION', 'University/NNP:ORGANIZATION', \"'s/POS\", 'Stephanie/NNP:PERSON', 'Lo/NNP:PERSON', 'and/CC', 'J./NNP:PERSON', 'Christina/NNP:PERSON', 'Wang/NNP:PERSON', 'of/IN', 'the/DT', 'Federal/NNP:ORGANIZATION', 'Reserve/NNP:ORGANIZATION', 'Bank/NNP:ORGANIZATION', 'of/IN:ORGANIZATION', 'Boston/NNP:ORGANIZATION', 'in/IN', 'Bitcoin/NNP', 'as/IN', 'Money/NNP', '?/.']\nSentiment: Neutral\n\n[',/,', 'noted/VBD', 'that/IN', 'Bitcoin/NNP', 'must/MD', 'be/VB', 'accepted/VBN', 'as/IN', 'payment/NN', 'for/IN', 'a/DT', 'sufficiently/RB', 'large/JJ', 'set/NN', 'of/IN', 'goods/NNS', 'or/CC', 'services/NNS', ',/,', 'or/CC', 'other/JJ', 'assets/NNS', 'to/TO', 'serve/VB', 'as/IN', 'a/DT', 'medium/NN', 'of/IN', 'exchange/NN', './.']\nSentiment: Negative\n\n"
     ]
    },
    {
     "name": "stdout",
     "output_type": "stream",
     "text": [
      "['``/``', 'A/DT', 'user/NN', 'is/VBZ', 'willing/JJ', 'to/TO', 'accept/VB', 'a/DT', 'fiat/NN', 'money/NN', 'as/IN', 'payment/NN', 'for/IN', 'other/JJ', 'objects/NNS', 'of/IN', 'value/NN', 'only/RB', 'if/IN', 'she/PRP', 'is/VBZ', 'confident/JJ', 'that/IN', 'enough/JJ', 'others/NNS', 'will/MD', 'be/VB', 'willing/JJ', 'to/TO', 'accept/VB', 'it/PRP', 'in/IN', 'turn/NN', 'from/IN', 'her/PRP', './.']\nSentiment: Negative\n\n['Unlike/IN', 'the/DT', 'regular/JJ', 'fiat/NN', 'money/NN', ',/,', 'however/RB', ',/,', 'Bitcoin/NNP', 'is/VBZ', 'not/RB', 'backed/VBN', 'by/IN', 'any/DT', 'sovereign/JJ', 'entity/NN', 'that/WDT', 'can/MD', 'compel/VB', 'the/DT', 'acceptance/NN', 'of/IN', 'its/PRP$', 'affiliated/JJ', 'fiat/NN', 'money/NN', 'within/IN', 'a/DT', 'certain/JJ', 'realm/NN', './.']\nSentiment: Negative\n\n['Therefore/RB', ',/,', 'in/IN', 'order/NN', 'to/TO', 'serve/VB', 'as/IN', 'a/DT', 'medium/NN', 'of/IN', 'exchange/NN', ',/,', 'Bitcoin/NNP:PERSON', 'has/VBZ', 'to/TO', 'rely/VB', 'solely/RB', 'on/IN', 'the/DT', 'self-fulfilling/NN', 'expectation/NN', 'on/IN', 'the/DT', 'part/NN', 'of/IN', 'private/JJ', 'agents/NNS', 'that/IN', 'it/PRP', 'will/MD', 'be/VB', 'accepted/VBN', './.', \"''/''\"]\nSentiment: Negative\n\n"
     ]
    },
    {
     "name": "stdout",
     "output_type": "stream",
     "text": [
      "['Claasen/NNP:PERSON', 'pointed/VBD', 'out/RP', 'that/IN', 'respondents/NNS', 'were/VBD', 'encouraged/VBN', 'to/TO', 'participate/VB', 'via/IN', 'membership/NN', 'email/NN', 'list/NN', ',/,', 'Facebook/NNP:ORGANIZATION', 'and/CC:ORGANIZATION', 'Twitter/NNP:ORGANIZATION', ',/,', 'Reddit/NNP:LOCATION', 'r/Bitcoin/NNP', 'and/CC', 'r/BTC/NNP', '//:', './.']\nSentiment: Negative\n\n"
     ]
    },
    {
     "name": "stdout",
     "output_type": "stream",
     "text": [
      "['``/``', 'We/PRP', \"'re/VBP\", 'not/RB', 'under/IN', 'any/DT', 'illusion/NN', 'that/IN', 'we/PRP', \"'re/VBP\", 'going/VBG', 'to/TO', 'directly/RB', 'influence/VB', 'the/DT', 'protocol/NN', 'product/NN', 'roadmap/NN', 'during/IN', 'this/DT', 'plan/NN', 'to/TO', 'end/VB:DATE', '2017/CD:DATE', './.']\nSentiment: Negative\n\n['That/DT', 'said/VBD', ',/,', 'we/PRP', 'have/VBP', 'community/NN', 'support/NN', 'for/IN', 'getting/VBG', 'involved/VBN', 'in/IN', 'key/JJ', 'areas/NNS', 'that/WDT', 'are/VBP', 'either/RB', 'currently/RB:DATE', 'unserved/JJ', 'or/CC', 'underserved/JJ', './.']\nSentiment: Neutral\n\n['We/PRP', 'have/VBP', 'no/DT', 'desire/NN', 'to/TO', 'compete/VB', 'with/IN', 'anyone/NN', 'else/RB', 'in/IN', 'the/DT', 'Bitcoin/NNP', 'community/NN', './.']\nSentiment: Negative\n\n"
     ]
    },
    {
     "name": "stdout",
     "output_type": "stream",
     "text": [
      "['``/``', 'It/PRP', \"'s/VBZ\", 'clear/JJ', 'to/TO', 'me/PRP', 'that/IN', 'the/DT', 'foundation/NN', 'should/MD', 'focus/VB', 'its/PRP$', 'advocacy/NN', 'programs/NNS', 'on/IN', 'Bitcoin/NNP', 'as/IN', 'a/DT', 'store/NN', 'of/IN', 'value/NN', 'and/CC', 'medium/NN', 'of/IN', 'exchange/NN', 'during/IN', '2016/2017/CD:NUMBER', './.']\nSentiment: Negative\n\n['People/NNS', 'are/VBP', 'looking/VBG', 'for/IN', 'another/DT', 'option/NN', 'in/IN', 'key/JJ', 'areas/NNS', 'like/IN', 'international/JJ', 'remittances/NNS', ',/,', 'micro/JJ', '-/:', 'and/CC', 'peer-to-peer/JJ', 'payments/NNS', 'and/CC', 'a/DT', 'fiat/NN', 'currency/NN', 'hedge/NN', 'and/CC', 'they/PRP', 'need/VBP', 'to/TO', 'know/VB', 'more/JJR', 'about/IN', 'Bitcoin/NNP', 'in/IN', 'this/DT', 'context/NN', './.', \"''/''\"]\nSentiment: Negative\n\n"
     ]
    },
    {
     "name": "stdout",
     "output_type": "stream",
     "text": [
      "['He/PRP', 'said/VBD', 'the/DT', 'survey/NN', 'was/VBD', 'only/RB', 'one/CD:NUMBER', 'of/IN', 'the/DT', 'tools/NNS', 'that/WDT', 'was/VBD', 'used/VBN', 'in/IN', 'formulating/VBG', 'the/DT', 'plan/NN', 'as/IN', 'he/PRP', 'had/VBD', 'many/JJ', 'face-to-face/JJ', 'and/CC', 'telephonic/JJ', 'conversations/NNS', 'with/IN', 'key/JJ', 'players/NNS', 'in/IN', 'the/DT', 'community/NN', 'over/IN', 'the/DT', 'last/JJ', 'while/IN', 'that/DT', 'have/VBP', 'also/RB', 'shaped/VBN', 'our/PRP$', 'plans/NNS', './.']\nSentiment: Negative\n\n"
     ]
    },
    {
     "name": "stdout",
     "output_type": "stream",
     "text": [
      "['The/DT', 'survey/NN', 'shows/VBZ', 'that/IN', '41/CD:PERCENT', '%/NN:PERCENT', 'of/IN', 'respondents/NNS', 'want/VBP', 'the/DT', 'Bitcoin/NNP:ORGANIZATION', 'Foundation/NNP:ORGANIZATION', 'to/TO', 'structure/VB', 'its/PRP$', 'operations/NNS', 'globally/RB', 'by/IN', 'having/VBG', 'initiatives/NNS', 'centrally/RB', 'initiated/VBN', 'but/CC', 'locally/RB', 'managed/VBD', './.']\nSentiment: Negative\n\n"
     ]
    },
    {
     "name": "stdout",
     "output_type": "stream",
     "text": [
      "['35/CD:PERCENT', '%/NN:PERCENT', 'want/VBP', 'them/PRP', 'to/TO', 'be/VB', 'either/CC', 'locally/RB', 'initiated/VBN', 'and/CC', 'locally/RB', 'managed/VBD', 'through/IN', 'affiliated/VBN', 'chapters/NNS', ',/,', 'and/CC', '15/CD:PERCENT', '%/NN:PERCENT', '-/:', 'centrally/RB', 'initiated/VBN', 'and/CC', 'centrally/RB', 'managed/VBN', 'by/IN', 'the/DT', 'Foundation/NNP:ORGANIZATION', './.']\nSentiment: Negative\n\n"
     ]
    },
    {
     "name": "stdout",
     "output_type": "stream",
     "text": [
      "['``/``', 'Philosophically/RB', ',/,', 'the/DT', 'community/NN', 'does/VBZ', 'not/RB', 'wish/VB', 'for/IN', 'the/DT', 'foundation/NN', 'to/TO', 'attempt/VB', 'to/TO', 'centralize/VB', 'control/NN', 'of/IN', 'any/DT', 'functions/NNS', 'and/CC', 'we/PRP', \"'re/VBP\", 'very/RB', 'supportive/JJ', 'of/IN', 'decentralized/VBN', 'decision-making/NN', 'by/IN', 'the/DT', 'community/NN', 'in/IN', 'the/DT', 'context/NN', 'of/IN', 'co-ordinated/JJ', 'activity/NN', './.']\nSentiment: Negative\n\n['There/EX', 'is/VBZ', 'much/JJ', 'work/NN', 'to/TO', 'be/VB', 'done/VBN', 'in/IN', 'this/DT', 'area/NN', 'because/IN', 'it/PRP', \"'s/VBZ\", 'so/RB', 'new/JJ', 'to/TO', 'everyone/NN', 'in/IN', 'the/DT', 'community/NN', './.', \"''/''\"]\nSentiment: Positive\n\n"
     ]
    },
    {
     "name": "stdout",
     "output_type": "stream",
     "text": [
      "['In/IN', 'another/DT', 'area/NN', 'touched/VBD', 'in/IN', 'the/DT', 'survey/NN', ',/,', '42/CD:PERCENT', '%/NN:PERCENT', 'of/IN', 'the/DT', 'respondents/NNS', 'say/VBP', 'their/PRP$', 'companies/NNS', 'are/VBP', 'not/RB', 'currently/RB:DATE', 'using/VBG', 'Bitcoin/NNP:LOCATION', 'in/IN', 'any/DT', 'way/NN', 'and/CC', '28/CD:PERCENT', '%/NN:PERCENT', 'having/VBG', 'companies/NNS', 'that/WDT', 'use/VBP', 'Bitcoin/NNP:ORGANIZATION', 'as/IN', 'a/DT', 'primary/JJ', 'product/NN', 'or/CC', 'service/NN', 'and/CC', '19/CD:PERCENT', '%/NN:PERCENT', 'currently/RB:DATE', 'researching/VBG', 'using/VBG', 'Bitcoin/NNP', 'in/IN', 'a/DT', 'product/NN', 'or/CC', 'service/NN', './.']\nSentiment: Negative\n\n['11/CD:PERCENT', '%/NN:PERCENT', 'have/VBP', 'a/DT', 'company/NN', \"'s/POS\", 'products/NNS', 'use/VBP', 'Bitcoin/NNP', './.']\nSentiment: Neutral\n\n"
     ]
    },
    {
     "name": "stdout",
     "output_type": "stream",
     "text": [
      "['62/CD:PERCENT', '%/NN:PERCENT', 'of/IN', 'respondents/NNS', 'would/MD', 'be/VB', 'willing/JJ', 'to/TO', 'contribute/VB', 'to/TO', 'funding/VBG', 'Bitcoin/NNP:ORGANIZATION', 'Foundation/NNP:ORGANIZATION', 'operations/NNS', 'in/IN', 'their/PRP$', 'personal/JJ', 'capacity/NN', 'in/IN', 'return/NN', 'for/IN', 'a/DT', 'published/VBN', 'quarterly/JJ:SET', 'plan/NN', 'provided/VBN', 'they/PRP', 'can/MD', 'see/VB', 'its/PRP$', 'plan/NN', './.']\nSentiment: Negative\n\n['19/CD:PERCENT', '%/NN:PERCENT', 'each/DT', 'both/CC', 'agree/VBP', 'and/CC', 'disagree/VBP', 'to/TO', 'make/VB', 'such/JJ', 'contributions/NNS', './.']\nSentiment: Negative\n\n"
     ]
    },
    {
     "name": "stdout",
     "output_type": "stream",
     "text": [
      "['On/IN', 'how/WRB', 'the/DT', 'Foundation/NNP', 'should/MD', 'fund/VB', 'its/PRP$', 'activities/NNS', ',/,', 'some/DT', 'respondents/NNS', 'say/VBP', 'it/PRP', 'should/MD', 'be/VB', 'primarily/RB', 'through/IN', 'individual/consumer/NN', 'memberships/NNS', '-LRB-/-LRB-', '27/CD:PERCENT', '%/NN:PERCENT', '-RRB-/-RRB-', ',/,', 'corporate/JJ', 'sponsorships/NNS', '-LRB-/-LRB-', '20/CD:PERCENT', '%/NN:PERCENT', '-RRB-/-RRB-', ',/,', 'conferences/NNS', '-LRB-/-LRB-', '18/CD:PERCENT', '%/NN:PERCENT', '-RRB-/-RRB-', ',/,', 'business/NN', 'memberships/NNS', '-LRB-/-LRB-', '14/CD:PERCENT', '%/NN:PERCENT', '-RRB-/-RRB-', ',/,', 'training/NN', 'programs/NNS', '-LRB-/-LRB-', '12/CD:PERCENT', '%/NN:PERCENT', '-RRB-/-RRB-', 'and/CC', 'other/JJ', 'means/NNS', '-LRB-/-LRB-', '10/CD:PERCENT', '%/NN:PERCENT', '-RRB-/-RRB-', './.']\nSentiment: Negative\n\n"
     ]
    },
    {
     "name": "stdout",
     "output_type": "stream",
     "text": [
      "['Claasen/NNP:PERSON', 'noted/VBD', 'that/IN', 'from/IN', 'an/DT', 'organizational/JJ', 'structure/NN', 'perspective/NN', ',/,', 'an/DT', 'army/NN', 'of/IN', 'volunteers/NNS', 'can/MD', 'not/RB', 'be/VB', 'relied/VBN', 'upon/IN', 'to/TO', 'run/VB', 'the/DT', 'programs/NNS', 'of/IN', 'the/DT', 'Foundation/NNP', 'because/IN', 'people/NNS', '``/``', 'do/VBP', \"n't/RB\", 'have/VB', 'large/JJ', 'blocks/NNS', 'of/IN', 'time/NN', 'to/TO', 'commit/VB', 'for/IN', 'free/JJ', 'and/CC', 'this/DT', 'is/VBZ', 'perfectly/RB', 'reasonable/JJ', 'and/CC', 'not/RB', 'in/IN', 'any/DT', 'way/NN', 'suggestive/JJ', 'of/IN', 'a/DT', 'lack/NN', 'of/IN', 'support/NN', 'for/IN', 'the/DT', 'foundation/NN', './.']\nSentiment: Negative\n\n['We/PRP', 'must/MD', 'pay/VB', 'for/IN', 'people/NNS', \"'s/POS\", 'time/NN', ',/,', 'which/WDT', 'means/VBZ', 'that/IN', 'we/PRP', 'must/MD', 'have/VB', 'a/DT', 'compelling/JJ', 'and/CC', 'sustainable/JJ', 'revenue/NN', 'model/NN', 'that/WDT', 'does/VBZ', \"n't/RB\", 'create/VB', 'conflicts/NNS', 'of/IN', 'interest/NN', './.', \"''/''\"]\nSentiment: Negative\n\n"
     ]
    },
    {
     "name": "stdout",
     "output_type": "stream",
     "text": [
      "['He/PRP', 'added/VBD', 'that/IN', 'they/PRP', 'are/VBP', 'working/VBG', 'with/IN', 'the/DT', 'Board/NNP:ORGANIZATION', 'and/CC', 'key/JJ', 'stakeholders/NNS', 'on/IN', 'a/DT', 'comprehensive/JJ', 'operating/NN', 'plan/NN', './.']\nSentiment: Positive\n\n['``/``', 'Everything/NN', 'that/IN', 'we/PRP', \"'re/VBP\", 'going/VBG', 'to/TO', 'be/VB', 'doing/VBG', 'going/VBG', 'forward/RB', 'will/MD', 'be/VB', 'driven/VBN', 'by/IN', 'where/WRB', 'our/PRP$', 'members/NNS', 'wants/VBZ', 'us/PRP', 'to/TO', 'focus/VB', 'our/PRP$', 'resources/NNS', './.']\nSentiment: Negative\n\n['We/PRP', 'will/MD', 'be/VB', 'completely/RB', 'transparent/JJ', 'with/IN', 'our/PRP$', 'operating/NN', 'and/CC', 'financial/JJ', 'plan/NN', './.']\nSentiment: Negative\n\n['I/PRP', 'ca/MD', \"n't/RB\", 'say/VB', 'much/RB', 'more/JJR', 'than/IN', 'that/DT', 'just/RB', 'yet/RB', 'beyond/IN', 'commentary/NN', 'on/IN', 'the/DT', 'survey/NN', 'results/VBZ', ',/,', 'but/CC', 'will/MD', 'do/VB', 'so/RB', 'soon/RB', ',/,', \"''/''\", 'he/PRP', 'said/VBD', './.']\nSentiment: Neutral\n\n['For/IN', 'updates/NNS', 'and/CC', 'exclusive/JJ', 'offers/NNS', ',/,', 'enter/VB', 'your/PRP$', 'e-mail/NN', 'below/IN', './.']\nSentiment: Negative\n\n"
     ]
    }
   ],
   "source": [
    "# http://stanfordnlp.github.io/CoreNLP/corenlp-server.html#getting-started\n",
    "from pycorenlp import StanfordCoreNLP\n",
    "\n",
    "def corenlp_analysis_all(in_file):\n",
    "    with open(in_file, 'r', encoding='utf8') as f:\n",
    "        content = \"\".join(f.readlines())\n",
    "\n",
    "    nlp = StanfordCoreNLP('http://127.0.0.1:9000')\n",
    "    output = nlp.annotate(\n",
    "        content,\n",
    "        properties={\n",
    "            'annotators': 'sentiment',\n",
    "            'outputFormat': 'json'\n",
    "        }\n",
    "    )\n",
    "\n",
    "    for i, _ in enumerate(output['sentences']):\n",
    "        print(\"Sentence:\", [t['word'] for t in output['sentences'][i]['tokens']])\n",
    "        print(\"Sentiment:\", output['sentences'][i]['sentiment'])\n",
    "        print(\"\")\n",
    "\n",
    "\n",
    "def corenlp_analysis(in_file):\n",
    "    with open(in_file, 'r', encoding='utf8') as f:\n",
    "        # content = f.readlines()\n",
    "        lines = [line.rstrip('\\n') for line in f]\n",
    "\n",
    "    nlp = StanfordCoreNLP('http://127.0.0.1:9000')\n",
    "    for line in lines:\n",
    "        output = nlp.annotate(\n",
    "            line,\n",
    "            properties={\n",
    "                'annotators': 'sentiment,ner,pos',\n",
    "                'outputFormat': 'json'\n",
    "            }\n",
    "        )\n",
    "        # http://stanfordnlp.github.io/CoreNLP/ner.html\n",
    "        ner_names = [\"PERSON\", \"LOCATION\", \"ORGANIZATION\", \"MISC\"]\n",
    "        ner_numerical = [\"MONEY\", \"NUMBER\", \"ORDINAL\", \"PERCENT\"]\n",
    "        ner_temporal = [\"DATE\", \"TIME\", \"DURATION\", \"SET\"]\n",
    "        for i, _ in enumerate(output['sentences']):\n",
    "            print([t['word'] + (\"/\" + t[\"pos\"]) + (\":\" + t[\"ner\"] if t[\"ner\"] != \"O\" else \"\") for t in output['sentences'][i]['tokens']])\n",
    "            print(\"Sentiment:\", output['sentences'][i]['sentiment'])\n",
    "            print(\"\")\n",
    "\n",
    "\n",
    "in_dir = 'links_contents_clean'\n",
    "files = [\n",
    "    '20161001-2fc38645b2f1075b-Community_Prefers_Bitcoin_As_Exchange_Medium_Over_Store_of_Value%2C.txt.clean.txt',\n",
    "    # '20161001-51c397b0cd8bdbc6-Why_Blockchain_Won%E2%80%99t_Disrupt_Banks_First_-_CoinDesk.txt.clean.txt',\n",
    "    # '20161001-adb0edbb66d3fb0d-Kim_Dotcom_Reiterates_His_Bitcoin_Price_Forecast%2C_%242000_in_2.txt.clean.txt',\n",
    "    # '20161002-2c276484c2156687-Bitcoin_Can_Buy_You_a_Biometric_Data_Skimmer_on_the.txt.clean.txt',\n",
    "    # '20161002-c2b624fa4e45d409-Croatian_Law_Enforcement_Completes_Another_Bitcoin-related_Darknet_Drug_Bust_-.txt.clean.txt',\n",
    "    # '20161003-1eca38f66bf45f56-MGT_Capital_Investments_Inc_%28NYSEMKT%3AMGT%29%3A_Opportunity_Through_Uncertainty_%7C_Insider.tx.clean.txtt'\n",
    "]\n",
    "\n",
    "for file in files:\n",
    "    in_file = os.path.join(in_dir, file)\n",
    "    corenlp_analysis(in_file)"
   ]
  },
  {
   "cell_type": "markdown",
   "metadata": {},
   "source": [
    "Problema: los títulos están en mayúsculas, debemos reconocer las entidades para ello ignoramos sólo tomaremos en cuenta oraciones que contengan como mínimo un 10% de palabras en minúscula"
   ]
  },
  {
   "cell_type": "code",
   "execution_count": 188,
   "metadata": {},
   "outputs": [
    {
     "name": "stdout",
     "output_type": "stream",
     "text": [
      "{'J. Christina Wang': 'PERSON', 'Federal Reserve Bank of Boston': 'ORGANIZATION', '41 %': 'PERCENT', 'Foundation': 'ORGANIZATION', '37 %': 'PERCENT', '18 %': 'PERCENT', 'currently': 'DATE', 'one': 'NUMBER', '36 %': 'PERCENT', '11 %': 'PERCENT', 'Stephanie Lo': 'PERSON', '12 %': 'PERCENT', '20 %': 'PERCENT', '27 %': 'PERCENT', 'end 2017': 'DATE', '28 %': 'PERCENT', 'Harvard University': 'ORGANIZATION', 'Facebook': 'ORGANIZATION', 'Matthew R. Silver of Pepper Hamilton LLP': 'ORGANIZATION', 'Twitter': 'ORGANIZATION', 'Bitcoin': 'PERSON', 'Board': 'ORGANIZATION', 'the next 12 months': 'DURATION', '19 %': 'PERCENT', 'Timothy R. McTaggart': 'PERSON', '15 %': 'PERCENT', 'Llew Claasen': 'PERSON', '62 %': 'PERCENT', 'the past': 'DATE', '35 %': 'PERCENT', 'Claasen': 'PERSON', 'Cointelegraph': 'PERSON', '14 %': 'PERCENT', 'Bitcoin Foundation': 'ORGANIZATION', '42 %': 'PERCENT', 'The Foundation': 'ORGANIZATION', 'quarterly': 'SET', '2016/2017': 'NUMBER', 'Reddit': 'LOCATION', '10 %': 'PERCENT'}\n"
     ]
    }
   ],
   "source": [
    "# para poner en proper-case\n",
    "# - reconocimiento de entidades\n",
    "# - y sólo los nnp pueden serlo\n",
    "#\n",
    "# el número de menciones de la palabra según \"coreference\"\n",
    "# - \"coreference\" only works when words are in capitalized and not capitalized\n",
    "#\n",
    "# el sentimiento positivo, negativo, neutral\n",
    "# - de sólo el título\n",
    "# - de sólo las sentencias con menciones\n",
    "\n",
    "\n",
    "def retrieve_named_entities(lines, min_lower_words_per_sentence_rate=0.10):\n",
    "    nlp = StanfordCoreNLP('http://127.0.0.1:9000')\n",
    "    entity_words = {}\n",
    "    \n",
    "    # ignore the lines with more than 90% of uppercase\n",
    "    content = \"\"\n",
    "    for line in lines:\n",
    "        lower_words = 0\n",
    "        words = line.split()\n",
    "        # todo bad performance\n",
    "        for word in words:\n",
    "            if word[0].isalpha() and word[0].islower():\n",
    "                lower_words += 1\n",
    "        if lower_words > len(words) * min_lower_words_per_sentence_rate:\n",
    "            content += line + \"\\n\"\n",
    "\n",
    "    output = nlp.annotate(\n",
    "        content,\n",
    "        properties={\n",
    "            'annotators': 'ner',\n",
    "            'outputFormat': 'json'\n",
    "        }\n",
    "    )\n",
    "    # http://stanfordnlp.github.io/CoreNLP/ner.html\n",
    "    entity = \"\"\n",
    "    entity_words = {}\n",
    "    for i, _ in enumerate(output['sentences']):\n",
    "        words = []\n",
    "        for t in output['sentences'][i]['tokens']:\n",
    "            if entity != t[\"ner\"]:\n",
    "                if len(words) > 0:\n",
    "                    entity_words[\" \".join(words)] = entity\n",
    "                    words = []\n",
    "\n",
    "            entity = t[\"ner\"]\n",
    "            if entity != 'O':\n",
    "                words.append(t[\"word\"])\n",
    "                # print([t[\"word\"] for t in output['sentences'][i]['tokens']])\n",
    "                # print(entity_words)\n",
    "    return entity_words\n",
    "\n",
    "\n",
    "in_dir = 'links_contents_clean'\n",
    "files = [\n",
    "    '20161001-2fc38645b2f1075b-Community_Prefers_Bitcoin_As_Exchange_Medium_Over_Store_of_Value%2C.txt.clean.txt',\n",
    "    # '20161001-51c397b0cd8bdbc6-Why_Blockchain_Won%E2%80%99t_Disrupt_Banks_First_-_CoinDesk.txt.clean.txt',\n",
    "    # '20161001-adb0edbb66d3fb0d-Kim_Dotcom_Reiterates_His_Bitcoin_Price_Forecast%2C_%242000_in_2.txt.clean.txt',\n",
    "    # '20161002-2c276484c2156687-Bitcoin_Can_Buy_You_a_Biometric_Data_Skimmer_on_the.txt.clean.txt',\n",
    "    # '20161002-c2b624fa4e45d409-Croatian_Law_Enforcement_Completes_Another_Bitcoin-related_Darknet_Drug_Bust_-.txt.clean.txt',\n",
    "    # '20161003-1eca38f66bf45f56-MGT_Capital_Investments_Inc_%28NYSEMKT%3AMGT%29%3A_Opportunity_Through_Uncertainty_%7C_Insider.tx.clean.txtt'\n",
    "]\n",
    "\n",
    "for file in files:\n",
    "    in_file = os.path.join(in_dir, file)\n",
    "    with open(in_file, 'r', encoding='utf8') as f:\n",
    "        # content = f.readlines()\n",
    "        lines = [line.rstrip('\\n') for line in f]\n",
    "    print(retrieve_named_entities(lines))"
   ]
  },
  {
   "cell_type": "code",
   "execution_count": 197,
   "metadata": {
    "collapsed": false
   },
   "outputs": [
    {
     "name": "stdout",
     "output_type": "stream",
     "text": [
      "Counter({'Negative': 27, 'Neutral': 3, 'Positive': 2})\n"
     ]
    }
   ],
   "source": [
    "# podemos buscar caracterìsticas\n",
    "# - nùmero de sentencias positivas\n",
    "# - nùmero de sentencias negativas\n",
    "# - nùmero de sentencias neutras\n",
    "# - nùmero de menciones de bitcoin\n",
    "# - tf-idf\n",
    "from collections import Counter\n",
    "\n",
    "def analize_sentiment(content):\n",
    "    nlp = StanfordCoreNLP('http://127.0.0.1:9000')\n",
    "    output = nlp.annotate(\n",
    "        content,\n",
    "        properties={\n",
    "            'annotators': 'sentiment',\n",
    "            'outputFormat': 'json'\n",
    "        }\n",
    "    )\n",
    "    # http://stanfordnlp.github.io/CoreNLP/sentiment.html#options\n",
    "    sentiment = [s['sentiment'] for s in output['sentences']]\n",
    "    return Counter(sentiment)\n",
    "    \n",
    "\n",
    "in_dir = 'links_contents_clean'\n",
    "files = [\n",
    "    '20161001-2fc38645b2f1075b-Community_Prefers_Bitcoin_As_Exchange_Medium_Over_Store_of_Value%2C.txt.clean.txt',\n",
    "    # '20161001-51c397b0cd8bdbc6-Why_Blockchain_Won%E2%80%99t_Disrupt_Banks_First_-_CoinDesk.txt.clean.txt',\n",
    "    # '20161001-adb0edbb66d3fb0d-Kim_Dotcom_Reiterates_His_Bitcoin_Price_Forecast%2C_%242000_in_2.txt.clean.txt',\n",
    "    # '20161002-2c276484c2156687-Bitcoin_Can_Buy_You_a_Biometric_Data_Skimmer_on_the.txt.clean.txt',\n",
    "    # '20161002-c2b624fa4e45d409-Croatian_Law_Enforcement_Completes_Another_Bitcoin-related_Darknet_Drug_Bust_-.txt.clean.txt',\n",
    "    # '20161003-1eca38f66bf45f56-MGT_Capital_Investments_Inc_%28NYSEMKT%3AMGT%29%3A_Opportunity_Through_Uncertainty_%7C_Insider.tx.clean.txtt'\n",
    "]\n",
    "\n",
    "for file in files:\n",
    "    in_file = os.path.join(in_dir, file)\n",
    "    with open(in_file, 'r', encoding='utf8') as f:\n",
    "        lines = f.readlines()\n",
    "    sentiment = analize_sentiment(\"\\n\".join(lines))\n",
    "    print(sentiment)"
   ]
  },
  {
   "cell_type": "code",
   "execution_count": null,
   "metadata": {},
   "outputs": [],
   "source": [
    ""
   ]
  },
  {
   "cell_type": "code",
   "execution_count": 81,
   "metadata": {},
   "outputs": [
    {
     "name": "stdout",
     "output_type": "stream",
     "text": [
      "1 a1b2c3d4\n10 sd\n14 sd\n17 abc\n\"---w---w---w...w,w-w*w/w\"\n"
     ]
    }
   ],
   "source": [
    "# import re\n",
    "# # p = re.compile(r'\\\\b+.*\\\\b+')\n",
    "p = re.compile(r'(?:\\w+\\b|\\b\\w+\\b|\\b\\w+)')\n",
    "for m in p.finditer(' a1b2c3d4 sd. sd;abc'):\n",
    "    print(m.start(), m.group())\n",
    "s = re.sub(r'\\b\\w+\\b', 'w', '---aaa---word---word...word,wprd-w*2016/2017')\n",
    "print('\\\"%s\\\"' % s)"
   ]
  },
  {
   "cell_type": "code",
   "execution_count": 87,
   "metadata": {},
   "outputs": [
    {
     "name": "stdout",
     "output_type": "stream",
     "text": [
      "['aa', 'bc', 'de', 'aa', 'aaa', 'word', 'word', 'word', 'wprd', 'w', '2016', '2017']\n"
     ]
    }
   ],
   "source": [
    "words = re.split(r'[^\\w]+', 'aa bc de--aa ---aaa---word---word...word,wprd-w*2016/2017')\n",
    "print(words)"
   ]
  },
  {
   "cell_type": "code",
   "execution_count": 89,
   "metadata": {},
   "outputs": [
    {
     "name": "stdout",
     "output_type": "stream",
     "text": [
      "True\n"
     ]
    }
   ],
   "source": [
    "print('have' in english_stopwords)"
   ]
  },
  {
   "cell_type": "code",
   "execution_count": 141,
   "metadata": {
    "collapsed": false
   },
   "outputs": [
    {
     "name": "stdout",
     "output_type": "stream",
     "text": [
      "usa ee.uu. write ie Timothy R McTaggart and Matthew R Silver of. my example DECIMAL MegaUpload DECIMAL and BitCache 1. Read more 2016...\n"
     ]
    }
   ],
   "source": [
    "line = \"u.s.a. ee.uu. write i.e. Timothy R. McTaggart and Matthew R. Silver of. my example .1 MegaUpload 2.0 and BitCache 1. Read more 2016...\"\n",
    "line = re.sub('\\d*[.,]\\d+', 'DECIMAL', line)\n",
    "\n",
    "# print(re.sub(r'\\b(([a-zA-Z])\\.)+', '\\g<2>', line))\n",
    "# print(re.sub(r'\\b(?:([a-zA-Z])\\.)+', '*', line))\n",
    "p = re.compile(r'\\b((?:[a-zA-Z]\\.)+)')\n",
    "for m in p.finditer(line):\n",
    "    line = line.replace(m.group(), ''.join(m.group(1).split('.')))\n",
    "    # print(m.start(), m.group(), ''.join(m.group(1).split('.')))\n",
    "print(line)"
   ]
  },
  {
   "cell_type": "code",
   "execution_count": 142,
   "metadata": {},
   "outputs": [
    {
     "name": "stdout",
     "output_type": "stream",
     "text": [
      "['it usa ee', 'uu', ' write ie Timothy R McTaggart and Matthew', ' Inc (NYSEMKT:MGT)', ' my example MegaUpload 2', '0 and BitCache', ' Read more', ' \"hello worl', '\"']\n['it usa ee', ' write ie Timothy R McTaggart and Matthew', ' my example MegaUpload 2', '0 and BitCache']\n"
     ]
    }
   ],
   "source": [
    "line = 'it usa ee.uu. write ie Timothy R McTaggart and Matthew. Inc (NYSEMKT:MGT). my example MegaUpload 2.0 and BitCache. Read more... \"hello worl.\"'\n",
    "#FAILS WITH: MGT Capital intends to change its corporate name to “John McAfee Global Technologies, Inc.”\n",
    "print([s for s in re.split(r'\\.', line) if s])\n",
    "print([s for s in re.split(r'\\.+', line) if len(s.split()) > 2])"
   ]
  },
  {
   "cell_type": "code",
   "execution_count": 187,
   "metadata": {},
   "outputs": [
    {
     "name": "stdout",
     "output_type": "stream",
     "text": [
      "Many in the Bitcoin community have expressed that the most compelling function they want the Bitcoin Foundation to focus its advocacy programs on in the next 12 months is; serving as a medium of exchange.\nAccording to the outcomes of a community survey released by the Foundation, 37% of the respondents choose to focus on Bitcoin as a medium of exchange - i.e. used to\n\n"
     ]
    }
   ],
   "source": [
    "lines = [\n",
    "\"Many in the Bitcoin community have expressed that the most compelling function they want the Bitcoin Foundation to focus its advocacy programs on in the next 12 months is; serving as a medium of exchange.\",\n",
    "\"Community Prefers Bitcoin As Exchange Medium Over Store of Value, Survey Shows\", \n",
    "\"Community Prefers Bitcoin As Exchange Medium Over Store of Value, Survey Shows\", \n",
    "\"According to the outcomes of a community survey released by the Foundation, 37% of the respondents choose to focus on Bitcoin as a medium of exchange - i.e. used to\", \n",
    "]\n",
    "content = \"\"\n",
    "for line in lines:\n",
    "    lower_words = 0\n",
    "    words = line.split()\n",
    "    for word in words:\n",
    "        if word[0].isalpha() and word[0].islower():\n",
    "            lower_words += 1\n",
    "    if lower_words > len(words) * 0.10:\n",
    "        content += line + \"\\n\"\n",
    "print(content)"
   ]
  },
  {
   "cell_type": "code",
   "execution_count": null,
   "metadata": {},
   "outputs": [],
   "source": [
    ""
   ]
  }
 ],
 "metadata": {
  "kernelspec": {
   "display_name": "Python 2",
   "language": "python",
   "name": "python2"
  },
  "language_info": {
   "codemirror_mode": {
    "name": "ipython",
    "version": 2.0
   },
   "file_extension": ".py",
   "mimetype": "text/x-python",
   "name": "python",
   "nbconvert_exporter": "python",
   "pygments_lexer": "ipython2",
   "version": "2.7.6"
  }
 },
 "nbformat": 4,
 "nbformat_minor": 0
}