{
 "cells": [
  {
   "cell_type": "markdown",
   "metadata": {
    "collapsed": true
   },
   "source": [
    "### Using Stanford's CoreNLP server\n",
    "http://stanfordnlp.github.io/CoreNLP/corenlp-server.html\n",
    "\n",
    "Wrappers: https://stanfordnlp.github.io/CoreNLP/other-languages.html#python\n",
    "- corenlp pywrap https://github.com/hhsecond/corenlp_pywrap\n",
    "- pycorenlp https://github.com/smilli/py-corenlp\n",
    "- Python wrapper for v.3.4.1 in https://github.com/dasmith/stanford-corenlp-python\n"
   ]
  },
  {
   "cell_type": "code",
   "execution_count": 36,
   "metadata": {},
   "outputs": [
    {
     "name": "stdout",
     "output_type": "stream",
     "text": [
      "{'sentences': [{'sentiment': 'Negative', 'enhancedPlusPlusDependencies': [{'dependentGloss': 'told', 'governor': 0, 'governorGloss': 'ROOT', 'dependent': 17, 'dep': 'ROOT'}, {'dependentGloss': 'Commenting', 'governor': 17, 'governorGloss': 'told', 'dependent': 1, 'dep': 'advcl'}, {'dependentGloss': 'on', 'governor': 4, 'governorGloss': 'survey', 'dependent': 2, 'dep': 'case'}, {'dependentGloss': 'the', 'governor': 4, 'governorGloss': 'survey', 'dependent': 3, 'dep': 'det'}, {'dependentGloss': 'survey', 'governor': 1, 'governorGloss': 'Commenting', 'dependent': 4, 'dep': 'nmod:on'}, {'dependentGloss': ',', 'governor': 17, 'governorGloss': 'told', 'dependent': 5, 'dep': 'punct'}, {'dependentGloss': 'the', 'governor': 8, 'governorGloss': 'Director', 'dependent': 6, 'dep': 'det'}, {'dependentGloss': 'Executive', 'governor': 8, 'governorGloss': 'Director', 'dependent': 7, 'dep': 'compound'}, {'dependentGloss': 'Director', 'governor': 17, 'governorGloss': 'told', 'dependent': 8, 'dep': 'nsubj'}, {'dependentGloss': 'of', 'governor': 12, 'governorGloss': 'Foundation', 'dependent': 9, 'dep': 'case'}, {'dependentGloss': 'The', 'governor': 12, 'governorGloss': 'Foundation', 'dependent': 10, 'dep': 'det'}, {'dependentGloss': 'Bitcoin', 'governor': 12, 'governorGloss': 'Foundation', 'dependent': 11, 'dep': 'compound'}, {'dependentGloss': 'Foundation', 'governor': 8, 'governorGloss': 'Director', 'dependent': 12, 'dep': 'nmod:of'}, {'dependentGloss': ',', 'governor': 8, 'governorGloss': 'Director', 'dependent': 13, 'dep': 'punct'}, {'dependentGloss': 'Llew', 'governor': 15, 'governorGloss': 'Claasen', 'dependent': 14, 'dep': 'compound'}, {'dependentGloss': 'Claasen', 'governor': 8, 'governorGloss': 'Director', 'dependent': 15, 'dep': 'appos'}, {'dependentGloss': ',', 'governor': 8, 'governorGloss': 'Director', 'dependent': 16, 'dep': 'punct'}, {'dependentGloss': 'Cointelegraph', 'governor': 17, 'governorGloss': 'told', 'dependent': 18, 'dep': 'dobj'}, {'dependentGloss': '.', 'governor': 17, 'governorGloss': 'told', 'dependent': 19, 'dep': 'punct'}], 'tokens': [{'ner': 'O', 'lemma': 'comment', 'word': 'Commenting', 'after': ' ', 'pos': 'VBG', 'originalText': 'Commenting', 'before': '', 'index': 1, 'characterOffsetEnd': 10, 'characterOffsetBegin': 0}, {'ner': 'O', 'lemma': 'on', 'word': 'on', 'after': ' ', 'pos': 'IN', 'originalText': 'on', 'before': ' ', 'index': 2, 'characterOffsetEnd': 13, 'characterOffsetBegin': 11}, {'ner': 'O', 'lemma': 'the', 'word': 'the', 'after': ' ', 'pos': 'DT', 'originalText': 'the', 'before': ' ', 'index': 3, 'characterOffsetEnd': 17, 'characterOffsetBegin': 14}, {'ner': 'O', 'lemma': 'survey', 'word': 'survey', 'after': '', 'pos': 'NN', 'originalText': 'survey', 'before': ' ', 'index': 4, 'characterOffsetEnd': 24, 'characterOffsetBegin': 18}, {'ner': 'O', 'lemma': ',', 'word': ',', 'after': ' ', 'pos': ',', 'originalText': ',', 'before': '', 'index': 5, 'characterOffsetEnd': 25, 'characterOffsetBegin': 24}, {'ner': 'O', 'lemma': 'the', 'word': 'the', 'after': ' ', 'pos': 'DT', 'originalText': 'the', 'before': ' ', 'index': 6, 'characterOffsetEnd': 29, 'characterOffsetBegin': 26}, {'ner': 'O', 'lemma': 'Executive', 'word': 'Executive', 'after': ' ', 'pos': 'NNP', 'originalText': 'Executive', 'before': ' ', 'index': 7, 'characterOffsetEnd': 39, 'characterOffsetBegin': 30}, {'ner': 'O', 'lemma': 'Director', 'word': 'Director', 'after': ' ', 'pos': 'NNP', 'originalText': 'Director', 'before': ' ', 'index': 8, 'characterOffsetEnd': 48, 'characterOffsetBegin': 40}, {'ner': 'O', 'lemma': 'of', 'word': 'of', 'after': ' ', 'pos': 'IN', 'originalText': 'of', 'before': ' ', 'index': 9, 'characterOffsetEnd': 51, 'characterOffsetBegin': 49}, {'ner': 'O', 'lemma': 'the', 'word': 'The', 'after': ' ', 'pos': 'DT', 'originalText': 'The', 'before': ' ', 'index': 10, 'characterOffsetEnd': 55, 'characterOffsetBegin': 52}, {'ner': 'ORGANIZATION', 'lemma': 'Bitcoin', 'word': 'Bitcoin', 'after': ' ', 'pos': 'NNP', 'originalText': 'Bitcoin', 'before': ' ', 'index': 11, 'characterOffsetEnd': 63, 'characterOffsetBegin': 56}, {'ner': 'ORGANIZATION', 'lemma': 'Foundation', 'word': 'Foundation', 'after': '', 'pos': 'NNP', 'originalText': 'Foundation', 'before': ' ', 'index': 12, 'characterOffsetEnd': 74, 'characterOffsetBegin': 64}, {'ner': 'O', 'lemma': ',', 'word': ',', 'after': ' ', 'pos': ',', 'originalText': ',', 'before': '', 'index': 13, 'characterOffsetEnd': 75, 'characterOffsetBegin': 74}, {'ner': 'PERSON', 'lemma': 'Llew', 'word': 'Llew', 'after': ' ', 'pos': 'NNP', 'originalText': 'Llew', 'before': ' ', 'index': 14, 'characterOffsetEnd': 80, 'characterOffsetBegin': 76}, {'ner': 'PERSON', 'lemma': 'Claasen', 'word': 'Claasen', 'after': '', 'pos': 'NNP', 'originalText': 'Claasen', 'before': ' ', 'index': 15, 'characterOffsetEnd': 88, 'characterOffsetBegin': 81}, {'ner': 'O', 'lemma': ',', 'word': ',', 'after': ' ', 'pos': ',', 'originalText': ',', 'before': '', 'index': 16, 'characterOffsetEnd': 89, 'characterOffsetBegin': 88}, {'ner': 'O', 'lemma': 'tell', 'word': 'told', 'after': ' ', 'pos': 'VBD', 'originalText': 'told', 'before': ' ', 'index': 17, 'characterOffsetEnd': 94, 'characterOffsetBegin': 90}, {'ner': 'PERSON', 'lemma': 'Cointelegraph', 'word': 'Cointelegraph', 'after': '', 'pos': 'NNP', 'originalText': 'Cointelegraph', 'before': ' ', 'index': 18, 'characterOffsetEnd': 108, 'characterOffsetBegin': 95}, {'ner': 'O', 'lemma': '.', 'word': '.', 'after': '', 'pos': '.', 'originalText': '.', 'before': '', 'index': 19, 'characterOffsetEnd': 109, 'characterOffsetBegin': 108}], 'sentimentValue': '1', 'basicDependencies': [{'dependentGloss': 'told', 'governor': 0, 'governorGloss': 'ROOT', 'dependent': 17, 'dep': 'ROOT'}, {'dependentGloss': 'Commenting', 'governor': 17, 'governorGloss': 'told', 'dependent': 1, 'dep': 'advcl'}, {'dependentGloss': 'on', 'governor': 4, 'governorGloss': 'survey', 'dependent': 2, 'dep': 'case'}, {'dependentGloss': 'the', 'governor': 4, 'governorGloss': 'survey', 'dependent': 3, 'dep': 'det'}, {'dependentGloss': 'survey', 'governor': 1, 'governorGloss': 'Commenting', 'dependent': 4, 'dep': 'nmod'}, {'dependentGloss': ',', 'governor': 17, 'governorGloss': 'told', 'dependent': 5, 'dep': 'punct'}, {'dependentGloss': 'the', 'governor': 8, 'governorGloss': 'Director', 'dependent': 6, 'dep': 'det'}, {'dependentGloss': 'Executive', 'governor': 8, 'governorGloss': 'Director', 'dependent': 7, 'dep': 'compound'}, {'dependentGloss': 'Director', 'governor': 17, 'governorGloss': 'told', 'dependent': 8, 'dep': 'nsubj'}, {'dependentGloss': 'of', 'governor': 12, 'governorGloss': 'Foundation', 'dependent': 9, 'dep': 'case'}, {'dependentGloss': 'The', 'governor': 12, 'governorGloss': 'Foundation', 'dependent': 10, 'dep': 'det'}, {'dependentGloss': 'Bitcoin', 'governor': 12, 'governorGloss': 'Foundation', 'dependent': 11, 'dep': 'compound'}, {'dependentGloss': 'Foundation', 'governor': 8, 'governorGloss': 'Director', 'dependent': 12, 'dep': 'nmod'}, {'dependentGloss': ',', 'governor': 8, 'governorGloss': 'Director', 'dependent': 13, 'dep': 'punct'}, {'dependentGloss': 'Llew', 'governor': 15, 'governorGloss': 'Claasen', 'dependent': 14, 'dep': 'compound'}, {'dependentGloss': 'Claasen', 'governor': 8, 'governorGloss': 'Director', 'dependent': 15, 'dep': 'appos'}, {'dependentGloss': ',', 'governor': 8, 'governorGloss': 'Director', 'dependent': 16, 'dep': 'punct'}, {'dependentGloss': 'Cointelegraph', 'governor': 17, 'governorGloss': 'told', 'dependent': 18, 'dep': 'dobj'}, {'dependentGloss': '.', 'governor': 17, 'governorGloss': 'told', 'dependent': 19, 'dep': 'punct'}], 'enhancedDependencies': [{'dependentGloss': 'told', 'governor': 0, 'governorGloss': 'ROOT', 'dependent': 17, 'dep': 'ROOT'}, {'dependentGloss': 'Commenting', 'governor': 17, 'governorGloss': 'told', 'dependent': 1, 'dep': 'advcl'}, {'dependentGloss': 'on', 'governor': 4, 'governorGloss': 'survey', 'dependent': 2, 'dep': 'case'}, {'dependentGloss': 'the', 'governor': 4, 'governorGloss': 'survey', 'dependent': 3, 'dep': 'det'}, {'dependentGloss': 'survey', 'governor': 1, 'governorGloss': 'Commenting', 'dependent': 4, 'dep': 'nmod:on'}, {'dependentGloss': ',', 'governor': 17, 'governorGloss': 'told', 'dependent': 5, 'dep': 'punct'}, {'dependentGloss': 'the', 'governor': 8, 'governorGloss': 'Director', 'dependent': 6, 'dep': 'det'}, {'dependentGloss': 'Executive', 'governor': 8, 'governorGloss': 'Director', 'dependent': 7, 'dep': 'compound'}, {'dependentGloss': 'Director', 'governor': 17, 'governorGloss': 'told', 'dependent': 8, 'dep': 'nsubj'}, {'dependentGloss': 'of', 'governor': 12, 'governorGloss': 'Foundation', 'dependent': 9, 'dep': 'case'}, {'dependentGloss': 'The', 'governor': 12, 'governorGloss': 'Foundation', 'dependent': 10, 'dep': 'det'}, {'dependentGloss': 'Bitcoin', 'governor': 12, 'governorGloss': 'Foundation', 'dependent': 11, 'dep': 'compound'}, {'dependentGloss': 'Foundation', 'governor': 8, 'governorGloss': 'Director', 'dependent': 12, 'dep': 'nmod:of'}, {'dependentGloss': ',', 'governor': 8, 'governorGloss': 'Director', 'dependent': 13, 'dep': 'punct'}, {'dependentGloss': 'Llew', 'governor': 15, 'governorGloss': 'Claasen', 'dependent': 14, 'dep': 'compound'}, {'dependentGloss': 'Claasen', 'governor': 8, 'governorGloss': 'Director', 'dependent': 15, 'dep': 'appos'}, {'dependentGloss': ',', 'governor': 8, 'governorGloss': 'Director', 'dependent': 16, 'dep': 'punct'}, {'dependentGloss': 'Cointelegraph', 'governor': 17, 'governorGloss': 'told', 'dependent': 18, 'dep': 'dobj'}, {'dependentGloss': '.', 'governor': 17, 'governorGloss': 'told', 'dependent': 19, 'dep': 'punct'}], 'parse': '(ROOT\\r\\n  (S\\r\\n    (S\\r\\n      (VP (VBG Commenting)\\r\\n        (PP (IN on)\\r\\n          (NP (DT the) (NN survey)))))\\r\\n    (, ,)\\r\\n    (NP\\r\\n      (NP\\r\\n        (NP (DT the) (NNP Executive) (NNP Director))\\r\\n        (PP (IN of)\\r\\n          (NP (DT The) (NNP Bitcoin) (NNP Foundation))))\\r\\n      (, ,)\\r\\n      (NP (NNP Llew) (NNP Claasen))\\r\\n      (, ,))\\r\\n    (VP (VBD told)\\r\\n      (NP (NNP Cointelegraph)))\\r\\n    (. .)))', 'index': 0}]}\nNegative\n[{'ner': 'O', 'lemma': 'comment', 'word': 'Commenting', 'after': ' ', 'pos': 'VBG', 'originalText': 'Commenting', 'before': '', 'index': 1, 'characterOffsetEnd': 10, 'characterOffsetBegin': 0}, {'ner': 'O', 'lemma': 'on', 'word': 'on', 'after': ' ', 'pos': 'IN', 'originalText': 'on', 'before': ' ', 'index': 2, 'characterOffsetEnd': 13, 'characterOffsetBegin': 11}, {'ner': 'O', 'lemma': 'the', 'word': 'the', 'after': ' ', 'pos': 'DT', 'originalText': 'the', 'before': ' ', 'index': 3, 'characterOffsetEnd': 17, 'characterOffsetBegin': 14}, {'ner': 'O', 'lemma': 'survey', 'word': 'survey', 'after': '', 'pos': 'NN', 'originalText': 'survey', 'before': ' ', 'index': 4, 'characterOffsetEnd': 24, 'characterOffsetBegin': 18}, {'ner': 'O', 'lemma': ',', 'word': ',', 'after': ' ', 'pos': ',', 'originalText': ',', 'before': '', 'index': 5, 'characterOffsetEnd': 25, 'characterOffsetBegin': 24}, {'ner': 'O', 'lemma': 'the', 'word': 'the', 'after': ' ', 'pos': 'DT', 'originalText': 'the', 'before': ' ', 'index': 6, 'characterOffsetEnd': 29, 'characterOffsetBegin': 26}, {'ner': 'O', 'lemma': 'Executive', 'word': 'Executive', 'after': ' ', 'pos': 'NNP', 'originalText': 'Executive', 'before': ' ', 'index': 7, 'characterOffsetEnd': 39, 'characterOffsetBegin': 30}, {'ner': 'O', 'lemma': 'Director', 'word': 'Director', 'after': ' ', 'pos': 'NNP', 'originalText': 'Director', 'before': ' ', 'index': 8, 'characterOffsetEnd': 48, 'characterOffsetBegin': 40}, {'ner': 'O', 'lemma': 'of', 'word': 'of', 'after': ' ', 'pos': 'IN', 'originalText': 'of', 'before': ' ', 'index': 9, 'characterOffsetEnd': 51, 'characterOffsetBegin': 49}, {'ner': 'O', 'lemma': 'the', 'word': 'The', 'after': ' ', 'pos': 'DT', 'originalText': 'The', 'before': ' ', 'index': 10, 'characterOffsetEnd': 55, 'characterOffsetBegin': 52}, {'ner': 'ORGANIZATION', 'lemma': 'Bitcoin', 'word': 'Bitcoin', 'after': ' ', 'pos': 'NNP', 'originalText': 'Bitcoin', 'before': ' ', 'index': 11, 'characterOffsetEnd': 63, 'characterOffsetBegin': 56}, {'ner': 'ORGANIZATION', 'lemma': 'Foundation', 'word': 'Foundation', 'after': '', 'pos': 'NNP', 'originalText': 'Foundation', 'before': ' ', 'index': 12, 'characterOffsetEnd': 74, 'characterOffsetBegin': 64}, {'ner': 'O', 'lemma': ',', 'word': ',', 'after': ' ', 'pos': ',', 'originalText': ',', 'before': '', 'index': 13, 'characterOffsetEnd': 75, 'characterOffsetBegin': 74}, {'ner': 'PERSON', 'lemma': 'Llew', 'word': 'Llew', 'after': ' ', 'pos': 'NNP', 'originalText': 'Llew', 'before': ' ', 'index': 14, 'characterOffsetEnd': 80, 'characterOffsetBegin': 76}, {'ner': 'PERSON', 'lemma': 'Claasen', 'word': 'Claasen', 'after': '', 'pos': 'NNP', 'originalText': 'Claasen', 'before': ' ', 'index': 15, 'characterOffsetEnd': 88, 'characterOffsetBegin': 81}, {'ner': 'O', 'lemma': ',', 'word': ',', 'after': ' ', 'pos': ',', 'originalText': ',', 'before': '', 'index': 16, 'characterOffsetEnd': 89, 'characterOffsetBegin': 88}, {'ner': 'O', 'lemma': 'tell', 'word': 'told', 'after': ' ', 'pos': 'VBD', 'originalText': 'told', 'before': ' ', 'index': 17, 'characterOffsetEnd': 94, 'characterOffsetBegin': 90}, {'ner': 'PERSON', 'lemma': 'Cointelegraph', 'word': 'Cointelegraph', 'after': '', 'pos': 'NNP', 'originalText': 'Cointelegraph', 'before': ' ', 'index': 18, 'characterOffsetEnd': 108, 'characterOffsetBegin': 95}, {'ner': 'O', 'lemma': '.', 'word': '.', 'after': '', 'pos': '.', 'originalText': '.', 'before': '', 'index': 19, 'characterOffsetEnd': 109, 'characterOffsetBegin': 108}]\nSentence: ['Commenting', 'on', 'the', 'survey', ',', 'the', 'Executive', 'Director', 'of', 'The', 'Bitcoin', 'Foundation', ',', 'Llew', 'Claasen', ',', 'told', 'Cointelegraph', '.']\nSentiment: Negative\n"
     ]
    }
   ],
   "source": [
    "# https://github.com/smilli/py-corenlp\n",
    "from pycorenlp import StanfordCoreNLP\n",
    "\n",
    "nlp = StanfordCoreNLP('http://127.0.0.1:9000')\n",
    "# text = (\n",
    "#     'Pusheen and Smitha walked along the beach. '\n",
    "#     'Pusheen wanted to surf, but fell off the surfboard.'\n",
    "# )\n",
    "# output = nlp.annotate(text, properties={\n",
    "#     'annotators': 'tokenize,ssplit,pos,depparse,parse',\n",
    "#     'outputFormat': 'json'\n",
    "# })\n",
    "output = nlp.annotate(\n",
    "    \"Commenting on the survey, the Executive Director of The Bitcoin Foundation, Llew Claasen, told Cointelegraph.\",\n",
    "    properties={\n",
    "        'annotators': 'sentiment,ner',\n",
    "        'outputFormat': 'json'\n",
    "    }\n",
    ")\n",
    "\n",
    "print(output)\n",
    "print(output['sentences'][0]['sentiment'])\n",
    "print(output['sentences'][0]['tokens'])\n",
    "for i, _ in enumerate(output['sentences']):\n",
    "    print(\"Sentence:\", [t['word'] for t in output['sentences'][i]['tokens']])\n",
    "    print(\"Sentiment:\", output['sentences'][i]['sentiment'])\n",
    "# print(output)"
   ]
  },
  {
   "cell_type": "code",
   "execution_count": 12,
   "metadata": {},
   "outputs": [
    {
     "name": "stdout",
     "output_type": "stream",
     "text": [
      "{'1': [{'headIndex': 2, 'sentNum': 1, 'id': 1, 'animacy': 'INANIMATE', 'gender': 'NEUTRAL', 'isRepresentativeMention': True, 'type': 'NOMINAL', 'startIndex': 1, 'position': [1, 1], 'text': 'The world', 'endIndex': 3, 'number': 'SINGULAR'}]}\n[{'enhancedPlusPlusDependencies': [{'dependentGloss': 'mine', 'governor': 0, 'governorGloss': 'ROOT', 'dependent': 4, 'dep': 'ROOT'}, {'dependentGloss': 'The', 'governor': 2, 'governorGloss': 'world', 'dependent': 1, 'dep': 'det'}, {'dependentGloss': 'world', 'governor': 4, 'governorGloss': 'mine', 'dependent': 2, 'dep': 'nsubj'}, {'dependentGloss': 'is', 'governor': 4, 'governorGloss': 'mine', 'dependent': 3, 'dep': 'cop'}, {'dependentGloss': '.', 'governor': 4, 'governorGloss': 'mine', 'dependent': 5, 'dep': 'punct'}], 'tokens': [{'lemma': 'the', 'word': 'The', 'speaker': 'PER0', 'pos': 'DT', 'index': 1, 'truecase': 'INIT_UPPER', 'after': ' ', 'originalText': 'The', 'truecaseText': 'The', 'characterOffsetBegin': 0, 'ner': 'O', 'characterOffsetEnd': 3, 'before': ''}, {'lemma': 'world', 'word': 'world', 'speaker': 'PER0', 'pos': 'NN', 'index': 2, 'truecase': 'LOWER', 'after': ' ', 'originalText': 'world', 'truecaseText': 'world', 'characterOffsetBegin': 4, 'ner': 'O', 'characterOffsetEnd': 9, 'before': ' '}, {'lemma': 'be', 'word': 'is', 'speaker': 'PER0', 'pos': 'VBZ', 'index': 3, 'truecase': 'LOWER', 'after': ' ', 'originalText': 'is', 'truecaseText': 'is', 'characterOffsetBegin': 10, 'ner': 'O', 'characterOffsetEnd': 12, 'before': ' '}, {'lemma': 'mine', 'word': 'mine', 'speaker': 'PER0', 'pos': 'NN', 'index': 4, 'truecase': 'LOWER', 'after': '', 'originalText': 'mine', 'truecaseText': 'mine', 'characterOffsetBegin': 13, 'ner': 'O', 'characterOffsetEnd': 17, 'before': ' '}, {'lemma': '.', 'word': '.', 'speaker': 'PER0', 'pos': '.', 'index': 5, 'truecase': 'O', 'after': '', 'originalText': '.', 'truecaseText': '.', 'characterOffsetBegin': 17, 'ner': 'O', 'characterOffsetEnd': 18, 'before': ''}], 'basicDependencies': [{'dependentGloss': 'mine', 'governor': 0, 'governorGloss': 'ROOT', 'dependent': 4, 'dep': 'ROOT'}, {'dependentGloss': 'The', 'governor': 2, 'governorGloss': 'world', 'dependent': 1, 'dep': 'det'}, {'dependentGloss': 'world', 'governor': 4, 'governorGloss': 'mine', 'dependent': 2, 'dep': 'nsubj'}, {'dependentGloss': 'is', 'governor': 4, 'governorGloss': 'mine', 'dependent': 3, 'dep': 'cop'}, {'dependentGloss': '.', 'governor': 4, 'governorGloss': 'mine', 'dependent': 5, 'dep': 'punct'}], 'enhancedDependencies': [{'dependentGloss': 'mine', 'governor': 0, 'governorGloss': 'ROOT', 'dependent': 4, 'dep': 'ROOT'}, {'dependentGloss': 'The', 'governor': 2, 'governorGloss': 'world', 'dependent': 1, 'dep': 'det'}, {'dependentGloss': 'world', 'governor': 4, 'governorGloss': 'mine', 'dependent': 2, 'dep': 'nsubj'}, {'dependentGloss': 'is', 'governor': 4, 'governorGloss': 'mine', 'dependent': 3, 'dep': 'cop'}, {'dependentGloss': '.', 'governor': 4, 'governorGloss': 'mine', 'dependent': 5, 'dep': 'punct'}], 'parse': '(ROOT\\r\\n  (S\\r\\n    (NP (DT The) (NN world))\\r\\n    (VP (VBZ is)\\r\\n      (NP (NN mine)))\\r\\n    (. .)))', 'index': 0}]\n"
     ]
    }
   ],
   "source": [
    "# https://github.com/hhsecond/corenlp_pywrap\n",
    "import simplejson\n",
    "import corenlp_pywrap\n",
    "\n",
    "# annotator_list = CoreNLP.annotator_full_list + ['sentiment']\n",
    "# annotator_list = corenlp_pywrap.CoreNLP.annotator_full_list\n",
    "annotator_list = [\"tokenize\", \"cleanxml\", \"ssplit\", \"pos\",\n",
    "                  \"lemma\", \"ner\", \"regexner\", \"truecase\", \"parse\", \"depparse\", \"dcoref\",\n",
    "                  \"relation\", \"natlog\", \"quote\"]\n",
    "cn = corenlp_pywrap.pywrap.CoreNLP(url='http://127.0.0.1:9000', annotator_list=annotator_list)\n",
    "out = cn.basic('The world is mine.', out_format='json')\n",
    "result = simplejson.loads(out.content)\n",
    "print(result.get('corefs'))\n",
    "print(result.get('sentences'))"
   ]
  },
  {
   "cell_type": "code",
   "execution_count": 2,
   "metadata": {},
   "outputs": [
    {
     "name": "stdout",
     "output_type": "stream",
     "text": [
      "connect to ('127.0.0.1', 9000)\n--> '{\"jsonrpc\": \"2.0\", \"method\": \"parse\", \"params\": [\"Hello world.  It is so beautiful\"], \"id\": 0}'\n"
     ]
    },
    {
     "name": "stdout",
     "output_type": "stream",
     "text": [
      "close ('127.0.0.1', 9000)\n"
     ]
    },
    {
     "ename": "RPCTransportError",
     "evalue": "timed out",
     "traceback": [
      "\u001b[1;31m---------------------------------------------------------------------------\u001b[0m",
      "\u001b[1;31mtimeout\u001b[0m                                   Traceback (most recent call last)",
      "\u001b[1;32mG:\\postgrado\\pucp\\s2\\wm\\works\\final\\selenium-web-mining\\dasmith\\jsonrpc.py\u001b[0m in \u001b[0;36m__req\u001b[1;34m(self, methodname, args, kwargs, id)\u001b[0m\n\u001b[0;32m    965\u001b[0m         \u001b[1;32mtry\u001b[0m\u001b[1;33m:\u001b[0m\u001b[1;33m\u001b[0m\u001b[0m\n\u001b[1;32m--> 966\u001b[1;33m             \u001b[0mresp_str\u001b[0m \u001b[1;33m=\u001b[0m \u001b[0mself\u001b[0m\u001b[1;33m.\u001b[0m\u001b[0m__transport\u001b[0m\u001b[1;33m.\u001b[0m\u001b[0msendrecv\u001b[0m\u001b[1;33m(\u001b[0m\u001b[0mreq_str\u001b[0m\u001b[1;33m)\u001b[0m\u001b[1;33m\u001b[0m\u001b[0m\n\u001b[0m\u001b[0;32m    967\u001b[0m         \u001b[1;32mexcept\u001b[0m \u001b[0mException\u001b[0m \u001b[1;32mas\u001b[0m \u001b[0merr\u001b[0m\u001b[1;33m:\u001b[0m\u001b[1;33m\u001b[0m\u001b[0m\n",
      "\u001b[1;32mG:\\postgrado\\pucp\\s2\\wm\\works\\final\\selenium-web-mining\\dasmith\\jsonrpc.py\u001b[0m in \u001b[0;36msendrecv\u001b[1;34m(self, string)\u001b[0m\n\u001b[0;32m    852\u001b[0m             \u001b[0mself\u001b[0m\u001b[1;33m.\u001b[0m\u001b[0msend\u001b[0m\u001b[1;33m(\u001b[0m\u001b[0mstring\u001b[0m\u001b[1;33m)\u001b[0m\u001b[1;33m\u001b[0m\u001b[0m\n\u001b[1;32m--> 853\u001b[1;33m             \u001b[1;32mreturn\u001b[0m \u001b[0mself\u001b[0m\u001b[1;33m.\u001b[0m\u001b[0mrecv\u001b[0m\u001b[1;33m(\u001b[0m\u001b[1;33m)\u001b[0m\u001b[1;33m\u001b[0m\u001b[0m\n\u001b[0m\u001b[0;32m    854\u001b[0m         \u001b[1;32mfinally\u001b[0m\u001b[1;33m:\u001b[0m\u001b[1;33m\u001b[0m\u001b[0m\n",
      "\u001b[1;32mG:\\postgrado\\pucp\\s2\\wm\\works\\final\\selenium-web-mining\\dasmith\\jsonrpc.py\u001b[0m in \u001b[0;36mrecv\u001b[1;34m(self)\u001b[0m\n\u001b[0;32m    838\u001b[0m             \u001b[0mself\u001b[0m\u001b[1;33m.\u001b[0m\u001b[0mconnect\u001b[0m\u001b[1;33m(\u001b[0m\u001b[1;33m)\u001b[0m\u001b[1;33m\u001b[0m\u001b[0m\n\u001b[1;32m--> 839\u001b[1;33m         \u001b[0mdata\u001b[0m \u001b[1;33m=\u001b[0m \u001b[0mself\u001b[0m\u001b[1;33m.\u001b[0m\u001b[0ms\u001b[0m\u001b[1;33m.\u001b[0m\u001b[0mrecv\u001b[0m\u001b[1;33m(\u001b[0m\u001b[0mself\u001b[0m\u001b[1;33m.\u001b[0m\u001b[0mlimit\u001b[0m\u001b[1;33m)\u001b[0m\u001b[1;33m\u001b[0m\u001b[0m\n\u001b[0m\u001b[0;32m    840\u001b[0m         while (select.select((self.s,), (), (), 0.1)[\n",
      "\u001b[1;31mtimeout\u001b[0m: timed out",
      "\nDuring handling of the above exception, another exception occurred:\n",
      "\u001b[1;31mRPCTransportError\u001b[0m                         Traceback (most recent call last)",
      "\u001b[1;32m<ipython-input-2-28bb33e5b9fe>\u001b[0m in \u001b[0;36m<module>\u001b[1;34m()\u001b[0m\n\u001b[0;32m      4\u001b[0m                              jsonrpc.TransportTcpIp(addr=(\"127.0.0.1\", 9000), logfunc=jsonrpc.log_stdout))\n\u001b[0;32m      5\u001b[0m \u001b[1;33m\u001b[0m\u001b[0m\n\u001b[1;32m----> 6\u001b[1;33m \u001b[0mresult\u001b[0m \u001b[1;33m=\u001b[0m \u001b[0msimplejson\u001b[0m\u001b[1;33m.\u001b[0m\u001b[0mloads\u001b[0m\u001b[1;33m(\u001b[0m\u001b[0mserver\u001b[0m\u001b[1;33m.\u001b[0m\u001b[0mparse\u001b[0m\u001b[1;33m(\u001b[0m\u001b[1;34m\"Hello world.  It is so beautiful\"\u001b[0m\u001b[1;33m)\u001b[0m\u001b[1;33m)\u001b[0m\u001b[1;33m\u001b[0m\u001b[0m\n\u001b[0m\u001b[0;32m      7\u001b[0m \u001b[0mprint\u001b[0m\u001b[1;33m(\u001b[0m\u001b[1;34m\"Result\"\u001b[0m\u001b[1;33m,\u001b[0m \u001b[0mresult\u001b[0m\u001b[1;33m)\u001b[0m\u001b[1;33m\u001b[0m\u001b[0m\n",
      "\u001b[1;32mG:\\postgrado\\pucp\\s2\\wm\\works\\final\\selenium-web-mining\\dasmith\\jsonrpc.py\u001b[0m in \u001b[0;36m__call__\u001b[1;34m(self, *args, **kwargs)\u001b[0m\n\u001b[0;32m    998\u001b[0m \u001b[1;33m\u001b[0m\u001b[0m\n\u001b[0;32m    999\u001b[0m     \u001b[1;32mdef\u001b[0m \u001b[0m__call__\u001b[0m\u001b[1;33m(\u001b[0m\u001b[0mself\u001b[0m\u001b[1;33m,\u001b[0m \u001b[1;33m*\u001b[0m\u001b[0margs\u001b[0m\u001b[1;33m,\u001b[0m \u001b[1;33m**\u001b[0m\u001b[0mkwargs\u001b[0m\u001b[1;33m)\u001b[0m\u001b[1;33m:\u001b[0m\u001b[1;33m\u001b[0m\u001b[0m\n\u001b[1;32m-> 1000\u001b[1;33m         \u001b[1;32mreturn\u001b[0m \u001b[0mself\u001b[0m\u001b[1;33m.\u001b[0m\u001b[0m__req\u001b[0m\u001b[1;33m(\u001b[0m\u001b[0mself\u001b[0m\u001b[1;33m.\u001b[0m\u001b[0m__name\u001b[0m\u001b[1;33m,\u001b[0m \u001b[0margs\u001b[0m\u001b[1;33m,\u001b[0m \u001b[0mkwargs\u001b[0m\u001b[1;33m)\u001b[0m\u001b[1;33m\u001b[0m\u001b[0m\n\u001b[0m\u001b[0;32m   1001\u001b[0m \u001b[1;33m\u001b[0m\u001b[0m\n\u001b[0;32m   1002\u001b[0m \u001b[1;33m\u001b[0m\u001b[0m\n",
      "\u001b[1;32mG:\\postgrado\\pucp\\s2\\wm\\works\\final\\selenium-web-mining\\dasmith\\jsonrpc.py\u001b[0m in \u001b[0;36m__req\u001b[1;34m(self, methodname, args, kwargs, id)\u001b[0m\n\u001b[0;32m    966\u001b[0m             \u001b[0mresp_str\u001b[0m \u001b[1;33m=\u001b[0m \u001b[0mself\u001b[0m\u001b[1;33m.\u001b[0m\u001b[0m__transport\u001b[0m\u001b[1;33m.\u001b[0m\u001b[0msendrecv\u001b[0m\u001b[1;33m(\u001b[0m\u001b[0mreq_str\u001b[0m\u001b[1;33m)\u001b[0m\u001b[1;33m\u001b[0m\u001b[0m\n\u001b[0;32m    967\u001b[0m         \u001b[1;32mexcept\u001b[0m \u001b[0mException\u001b[0m \u001b[1;32mas\u001b[0m \u001b[0merr\u001b[0m\u001b[1;33m:\u001b[0m\u001b[1;33m\u001b[0m\u001b[0m\n\u001b[1;32m--> 968\u001b[1;33m             \u001b[1;32mraise\u001b[0m \u001b[0mRPCTransportError\u001b[0m\u001b[1;33m(\u001b[0m\u001b[0merr\u001b[0m\u001b[1;33m)\u001b[0m\u001b[1;33m\u001b[0m\u001b[0m\n\u001b[0m\u001b[0;32m    969\u001b[0m         \u001b[0mresp\u001b[0m \u001b[1;33m=\u001b[0m \u001b[0mself\u001b[0m\u001b[1;33m.\u001b[0m\u001b[0m__data_serializer\u001b[0m\u001b[1;33m.\u001b[0m\u001b[0mloads_response\u001b[0m\u001b[1;33m(\u001b[0m\u001b[0mresp_str\u001b[0m\u001b[1;33m)\u001b[0m\u001b[1;33m\u001b[0m\u001b[0m\n\u001b[0;32m    970\u001b[0m         \u001b[1;32mreturn\u001b[0m \u001b[0mresp\u001b[0m\u001b[1;33m[\u001b[0m\u001b[1;36m0\u001b[0m\u001b[1;33m]\u001b[0m\u001b[1;33m\u001b[0m\u001b[0m\n",
      "\u001b[1;31mRPCTransportError\u001b[0m: timed out"
     ],
     "output_type": "error"
    }
   ],
   "source": [
    "from dasmith import jsonrpc\n",
    "import simplejson\n",
    "server = jsonrpc.ServerProxy(jsonrpc.JsonRpc20(),\n",
    "                             jsonrpc.TransportTcpIp(addr=(\"127.0.0.1\", 9000), logfunc=jsonrpc.log_stdout))\n",
    "\n",
    "result = simplejson.loads(server.parse(\"Hello world.  It is so beautiful\"))\n",
    "print(\"Result\", result)"
   ]
  },
  {
   "cell_type": "code",
   "execution_count": null,
   "metadata": {},
   "outputs": [],
   "source": [
    ""
   ]
  },
  {
   "cell_type": "code",
   "execution_count": null,
   "metadata": {},
   "outputs": [],
   "source": [
    ""
   ]
  }
 ],
 "metadata": {
  "kernelspec": {
   "display_name": "Python 2",
   "language": "python",
   "name": "python2"
  },
  "language_info": {
   "codemirror_mode": {
    "name": "ipython",
    "version": 2.0
   },
   "file_extension": ".py",
   "mimetype": "text/x-python",
   "name": "python",
   "nbconvert_exporter": "python",
   "pygments_lexer": "ipython2",
   "version": "2.7.6"
  }
 },
 "nbformat": 4,
 "nbformat_minor": 0
}